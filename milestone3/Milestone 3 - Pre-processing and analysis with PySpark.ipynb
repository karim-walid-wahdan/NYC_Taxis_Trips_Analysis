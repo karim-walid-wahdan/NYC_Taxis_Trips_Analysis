{
 "cells": [
  {
   "cell_type": "markdown",
   "id": "ec70f372",
   "metadata": {},
   "source": [
    "# Milestone 3 - Pre-processing and analysis with PySpark\n",
    "\n",
    "## Deadline - Sunday, 10th of December @11.59 pm \n",
    "\n",
    "The goal of this milestone is to preprocess the dataset 'New York yellow taxis' by performing basic data preparation and basic analysis to gain a better understanding of the data using PySpark.\n",
    "\n",
    "Use the same month and year you used for the green taxis in milestone 1. [Datasets](https://drive.google.com/drive/folders/1t8nBgbHVaA5roZY4z3RcAG1_JMYlSTqu?usp=sharing) (download the yellow taxis dataset).\n",
    "\n",
    "Important Notes:\n",
    "- You MUST use this notebook template/structure. not doing so will result in marks deduction.\n",
    "- You MUST have the cells run and output shown similar to milestone 1. I will NOT RUN YOUR NOTEBOOK.\n",
    "\n",
    "Submission guidelines: same as milestone 1.\n",
    "\n",
    "Notebook name must be same format as the file you named in miletsone 1. Just M3 instead of M1.\n",
    "\n",
    "IMPORTANT: You are only allowed to use PySpark unless explicitly told otherwise(i.e last task).\n",
    "\n",
    "Useful resource/documentation (highly recommended) - [PySpark examples](https://sparkbyexamples.com/pyspark-tutorial/)\n"
   ]
  },
  {
   "cell_type": "markdown",
   "id": "22dd9327",
   "metadata": {},
   "source": [
    "## Weight dist.\n",
    "- Loading the dataset : 5%\n",
    "- Basic cleaning: 30%\n",
    "\t- column renaming: 10%\n",
    "\t- detect missing: 35%\n",
    "\t- Handle missing: 35%\n",
    "\t- Check missing : 20%\n",
    "- Analyses: 30%\n",
    "- Encoding: 20%\n",
    "- Lookup table: 10%\n",
    "- Writing the cleaned and lookup table back as parquet and csv files: 5%."
   ]
  },
  {
   "cell_type": "markdown",
   "id": "373d9b0c",
   "metadata": {},
   "source": [
    "# Tasks:"
   ]
  },
  {
   "cell_type": "markdown",
   "id": "literary-situation",
   "metadata": {
    "heading_collapsed": true
   },
   "source": [
    "## Starting the spark session"
   ]
  },
  {
   "cell_type": "code",
   "execution_count": null,
   "id": "painful-outline",
   "metadata": {
    "ExecuteTime": {
     "end_time": "2023-12-02T19:08:24.359634Z",
     "start_time": "2023-12-02T19:08:24.356848Z"
    },
    "hidden": true
   },
   "outputs": [],
   "source": [
    "from pyspark.sql import SparkSession\n",
    "from datetime import date\n",
    "from pyspark.sql import functions as fn\n",
    "from pyspark.ml.feature import StringIndexer\n",
    "import pandas as pd"
   ]
  },
  {
   "cell_type": "code",
   "execution_count": 4,
   "id": "floating-column",
   "metadata": {
    "ExecuteTime": {
     "end_time": "2023-12-02T19:01:39.294688Z",
     "start_time": "2023-12-02T19:01:39.290461Z"
    },
    "hidden": true
   },
   "outputs": [],
   "source": [
    "# Initialize Spark session\n",
    "spark = SparkSession.builder.appName(\"milestone3\").getOrCreate()\n",
    "# spark context to interact with the driver\n",
    "sc = spark.sparkContext"
   ]
  },
  {
   "cell_type": "markdown",
   "id": "dd35a7dc",
   "metadata": {
    "heading_collapsed": true
   },
   "source": [
    "## Load the dataset."
   ]
  },
  {
   "cell_type": "code",
   "execution_count": 5,
   "id": "3efa26f4",
   "metadata": {
    "ExecuteTime": {
     "end_time": "2023-12-02T19:01:39.392234Z",
     "start_time": "2023-12-02T19:01:39.296665Z"
    },
    "hidden": true
   },
   "outputs": [],
   "source": [
    "df = spark.read.parquet('./data/yellow_tripdata_2019-08.parquet')"
   ]
  },
  {
   "cell_type": "markdown",
   "id": "danish-florence",
   "metadata": {
    "heading_collapsed": true,
    "hidden": true
   },
   "source": [
    "### Counting the number of records"
   ]
  },
  {
   "cell_type": "code",
   "execution_count": 6,
   "id": "050e3822",
   "metadata": {
    "ExecuteTime": {
     "end_time": "2023-12-02T19:01:39.626400Z",
     "start_time": "2023-12-02T19:01:39.394402Z"
    },
    "hidden": true
   },
   "outputs": [
    {
     "data": {
      "text/plain": [
       "6073366"
      ]
     },
     "execution_count": 6,
     "metadata": {},
     "output_type": "execute_result"
    }
   ],
   "source": [
    "df.count()"
   ]
  },
  {
   "cell_type": "markdown",
   "id": "f7eb86a5",
   "metadata": {
    "heading_collapsed": true,
    "hidden": true
   },
   "source": [
    "### Preview first 20 rows."
   ]
  },
  {
   "cell_type": "code",
   "execution_count": 7,
   "id": "0fa27dab",
   "metadata": {
    "ExecuteTime": {
     "end_time": "2023-12-02T19:01:40.558995Z",
     "start_time": "2023-12-02T19:01:39.628486Z"
    },
    "hidden": true
   },
   "outputs": [
    {
     "name": "stdout",
     "output_type": "stream",
     "text": [
      "-RECORD 0-------------------------------------\n",
      " Vendor                | Creative Mobile T... \n",
      " tpep_pickup_datetime  | 2019-08-01 02:09:46  \n",
      " tpep_dropoff_datetime | 2019-08-01 02:10:36  \n",
      " passenger_count       | 1.0                  \n",
      " trip_distance         | 0.0                  \n",
      " Rate_type             | Standard rate        \n",
      " store_and_fwd_flag    | N                    \n",
      " PU_Location           | Queens,Long Islan... \n",
      " DO_Location           | Queens,Long Islan... \n",
      " payment_type          | Cash                 \n",
      " fare_amount           | 2.5                  \n",
      " extra                 | 0.5                  \n",
      " mta_tax               | 0.5                  \n",
      " tip_amount            | 0.0                  \n",
      " tolls_amount          | 0.0                  \n",
      " improvement_surcharge | 0.3                  \n",
      " total_amount          | 3.8                  \n",
      " congestion_surcharge  | 0.0                  \n",
      " airport_fee           | null                 \n",
      "-RECORD 1-------------------------------------\n",
      " Vendor                | Creative Mobile T... \n",
      " tpep_pickup_datetime  | 2019-08-01 02:30:47  \n",
      " tpep_dropoff_datetime | 2019-08-01 02:31:39  \n",
      " passenger_count       | 1.0                  \n",
      " trip_distance         | 0.0                  \n",
      " Rate_type             | Standard rate        \n",
      " store_and_fwd_flag    | N                    \n",
      " PU_Location           | Queens,Long Islan... \n",
      " DO_Location           | Queens,Long Islan... \n",
      " payment_type          | Cash                 \n",
      " fare_amount           | 2.5                  \n",
      " extra                 | 0.5                  \n",
      " mta_tax               | 0.5                  \n",
      " tip_amount            | 0.0                  \n",
      " tolls_amount          | 0.0                  \n",
      " improvement_surcharge | 0.3                  \n",
      " total_amount          | 3.8                  \n",
      " congestion_surcharge  | 0.0                  \n",
      " airport_fee           | null                 \n",
      "-RECORD 2-------------------------------------\n",
      " Vendor                | Creative Mobile T... \n",
      " tpep_pickup_datetime  | 2019-08-01 02:44:50  \n",
      " tpep_dropoff_datetime | 2019-08-01 02:46:32  \n",
      " passenger_count       | 1.0                  \n",
      " trip_distance         | 7.1                  \n",
      " Rate_type             | Standard rate        \n",
      " store_and_fwd_flag    | N                    \n",
      " PU_Location           | Queens,Long Islan... \n",
      " DO_Location           | Queens,Long Islan... \n",
      " payment_type          | Cash                 \n",
      " fare_amount           | 3.0                  \n",
      " extra                 | 0.5                  \n",
      " mta_tax               | 0.5                  \n",
      " tip_amount            | 0.0                  \n",
      " tolls_amount          | 0.0                  \n",
      " improvement_surcharge | 0.3                  \n",
      " total_amount          | 4.3                  \n",
      " congestion_surcharge  | 0.0                  \n",
      " airport_fee           | null                 \n",
      "-RECORD 3-------------------------------------\n",
      " Vendor                | Creative Mobile T... \n",
      " tpep_pickup_datetime  | 2019-08-01 02:57:16  \n",
      " tpep_dropoff_datetime | 2019-08-01 02:58:20  \n",
      " passenger_count       | 1.0                  \n",
      " trip_distance         | 0.0                  \n",
      " Rate_type             | Standard rate        \n",
      " store_and_fwd_flag    | N                    \n",
      " PU_Location           | Queens,Long Islan... \n",
      " DO_Location           | Queens,Long Islan... \n",
      " payment_type          | null                 \n",
      " fare_amount           | 3.0                  \n",
      " extra                 | 0.5                  \n",
      " mta_tax               | 0.5                  \n",
      " tip_amount            | 0.0                  \n",
      " tolls_amount          | 0.0                  \n",
      " improvement_surcharge | 0.3                  \n",
      " total_amount          | 4.3                  \n",
      " congestion_surcharge  | 0.0                  \n",
      " airport_fee           | null                 \n",
      "-RECORD 4-------------------------------------\n",
      " Vendor                | Creative Mobile T... \n",
      " tpep_pickup_datetime  | 2019-08-01 02:59:18  \n",
      " tpep_dropoff_datetime | 2019-08-01 03:04:13  \n",
      " passenger_count       | 1.0                  \n",
      " trip_distance         | 0.0                  \n",
      " Rate_type             | Standard rate        \n",
      " store_and_fwd_flag    | N                    \n",
      " PU_Location           | Queens,Long Islan... \n",
      " DO_Location           | Queens,Long Islan... \n",
      " payment_type          | Cash                 \n",
      " fare_amount           | 4.5                  \n",
      " extra                 | 0.5                  \n",
      " mta_tax               | 0.5                  \n",
      " tip_amount            | 0.0                  \n",
      " tolls_amount          | 0.0                  \n",
      " improvement_surcharge | 0.3                  \n",
      " total_amount          | 5.8                  \n",
      " congestion_surcharge  | 0.0                  \n",
      " airport_fee           | null                 \n",
      "-RECORD 5-------------------------------------\n",
      " Vendor                | Creative Mobile T... \n",
      " tpep_pickup_datetime  | 2019-08-01 02:47:20  \n",
      " tpep_dropoff_datetime | 2019-08-01 03:21:45  \n",
      " passenger_count       | 1.0                  \n",
      " trip_distance         | 7.3                  \n",
      " Rate_type             | Standard rate        \n",
      " store_and_fwd_flag    | N                    \n",
      " PU_Location           | Manhattan,Union Sq   \n",
      " DO_Location           | Brooklyn,Crown He... \n",
      " payment_type          | Credit card          \n",
      " fare_amount           | 28.0                 \n",
      " extra                 | 3.0                  \n",
      " mta_tax               | 0.5                  \n",
      " tip_amount            | 7.95                 \n",
      " tolls_amount          | 0.0                  \n",
      " improvement_surcharge | 0.3                  \n",
      " total_amount          | 39.75                \n",
      " congestion_surcharge  | 2.5                  \n",
      " airport_fee           | null                 \n",
      "-RECORD 6-------------------------------------\n",
      " Vendor                | Creative Mobile T... \n",
      " tpep_pickup_datetime  | 2019-08-01 02:19:46  \n",
      " tpep_dropoff_datetime | 2019-08-01 02:20:06  \n",
      " passenger_count       | 1.0                  \n",
      " trip_distance         | 0.0                  \n",
      " Rate_type             | Standard rate        \n",
      " store_and_fwd_flag    | N                    \n",
      " PU_Location           | Queens,Long Islan... \n",
      " DO_Location           | Queens,Long Islan... \n",
      " payment_type          | null                 \n",
      " fare_amount           | 2.5                  \n",
      " extra                 | 0.5                  \n",
      " mta_tax               | 0.5                  \n",
      " tip_amount            | 0.0                  \n",
      " tolls_amount          | 0.0                  \n",
      " improvement_surcharge | 0.3                  \n",
      " total_amount          | 3.8                  \n",
      " congestion_surcharge  | 0.0                  \n",
      " airport_fee           | null                 \n",
      "-RECORD 7-------------------------------------\n",
      " Vendor                | VeriFone Inc.        \n",
      " tpep_pickup_datetime  | 2019-08-01 02:22:12  \n",
      " tpep_dropoff_datetime | 2019-08-01 02:22:38  \n",
      " passenger_count       | 1.0                  \n",
      " trip_distance         | 0.0                  \n",
      " Rate_type             | Standard rate        \n",
      " store_and_fwd_flag    | N                    \n",
      " PU_Location           | Queens,Long Islan... \n",
      " DO_Location           | Queens,Long Islan... \n",
      " payment_type          | Cash                 \n",
      " fare_amount           | 2.5                  \n",
      " extra                 | null                 \n",
      " mta_tax               | 0.5                  \n",
      " tip_amount            | 0.0                  \n",
      " tolls_amount          | 0.0                  \n",
      " improvement_surcharge | 0.3                  \n",
      " total_amount          | 3.3                  \n",
      " congestion_surcharge  | 0.0                  \n",
      " airport_fee           | null                 \n",
      "-RECORD 8-------------------------------------\n",
      " Vendor                | VeriFone Inc.        \n",
      " tpep_pickup_datetime  | 2019-08-01 02:34:36  \n",
      " tpep_dropoff_datetime | 2019-08-01 02:35:16  \n",
      " passenger_count       | 1.0                  \n",
      " trip_distance         | 0.0                  \n",
      " Rate_type             | Standard rate        \n",
      " store_and_fwd_flag    | N                    \n",
      " PU_Location           | Queens,Queensbrid... \n",
      " DO_Location           | Queens,Queensbrid... \n",
      " payment_type          | Credit card          \n",
      " fare_amount           | 2.5                  \n",
      " extra                 | 0.5                  \n",
      " mta_tax               | 0.5                  \n",
      " tip_amount            | 0.76                 \n",
      " tolls_amount          | 0.0                  \n",
      " improvement_surcharge | 0.3                  \n",
      " total_amount          | 4.56                 \n",
      " congestion_surcharge  | 0.0                  \n",
      " airport_fee           | null                 \n",
      "-RECORD 9-------------------------------------\n",
      " Vendor                | Creative Mobile T... \n",
      " tpep_pickup_datetime  | 2019-08-01 02:16:25  \n",
      " tpep_dropoff_datetime | 2019-08-01 02:48:19  \n",
      " passenger_count       | 1.0                  \n",
      " trip_distance         | 6.5                  \n",
      " Rate_type             | Standard rate        \n",
      " store_and_fwd_flag    | N                    \n",
      " PU_Location           | Manhattan,Flatiron   \n",
      " DO_Location           | Queens,Astoria       \n",
      " payment_type          | null                 \n",
      " fare_amount           | 25.0                 \n",
      " extra                 | 3.0                  \n",
      " mta_tax               | 0.5                  \n",
      " tip_amount            | 4.32                 \n",
      " tolls_amount          | 0.0                  \n",
      " improvement_surcharge | 0.3                  \n",
      " total_amount          | 33.12                \n",
      " congestion_surcharge  | 2.5                  \n",
      " airport_fee           | null                 \n",
      "-RECORD 10------------------------------------\n",
      " Vendor                | Creative Mobile T... \n",
      " tpep_pickup_datetime  | 2019-08-01 02:43:48  \n",
      " tpep_dropoff_datetime | 2019-08-01 02:55:13  \n",
      " passenger_count       | 1.0                  \n",
      " trip_distance         | 2.1                  \n",
      " Rate_type             | Standard rate        \n",
      " store_and_fwd_flag    | N                    \n",
      " PU_Location           | Manhattan,Midtown... \n",
      " DO_Location           | Manhattan,East Vi... \n",
      " payment_type          | Credit card          \n",
      " fare_amount           | 9.5                  \n",
      " extra                 | 3.0                  \n",
      " mta_tax               | 0.5                  \n",
      " tip_amount            | 2.0                  \n",
      " tolls_amount          | 0.0                  \n",
      " improvement_surcharge | 0.3                  \n",
      " total_amount          | 15.3                 \n",
      " congestion_surcharge  | 2.5                  \n",
      " airport_fee           | null                 \n",
      "-RECORD 11------------------------------------\n",
      " Vendor                | VeriFone Inc.        \n",
      " tpep_pickup_datetime  | 2019-08-01 02:07:47  \n",
      " tpep_dropoff_datetime | 2019-08-01 02:10:35  \n",
      " passenger_count       | 1.0                  \n",
      " trip_distance         | 0.62                 \n",
      " Rate_type             | Standard rate        \n",
      " store_and_fwd_flag    | N                    \n",
      " PU_Location           | Manhattan,Battery... \n",
      " DO_Location           | Manhattan,Battery... \n",
      " payment_type          | Credit card          \n",
      " fare_amount           | 4.5                  \n",
      " extra                 | 0.5                  \n",
      " mta_tax               | 0.5                  \n",
      " tip_amount            | 2.49                 \n",
      " tolls_amount          | 0.0                  \n",
      " improvement_surcharge | 0.3                  \n",
      " total_amount          | 10.79                \n",
      " congestion_surcharge  | 2.5                  \n",
      " airport_fee           | null                 \n",
      "-RECORD 12------------------------------------\n",
      " Vendor                | VeriFone Inc.        \n",
      " tpep_pickup_datetime  | 2019-08-01 02:19:07  \n",
      " tpep_dropoff_datetime | 2019-08-01 02:41:15  \n",
      " passenger_count       | 1.0                  \n",
      " trip_distance         | 11.62                \n",
      " Rate_type             | Standard rate        \n",
      " store_and_fwd_flag    | N                    \n",
      " PU_Location           | Queens,JFK Airport   \n",
      " DO_Location           | Queens,LaGuardia ... \n",
      " payment_type          | Cash                 \n",
      " fare_amount           | 34.0                 \n",
      " extra                 | 0.5                  \n",
      " mta_tax               | 0.5                  \n",
      " tip_amount            | 0.0                  \n",
      " tolls_amount          | 0.0                  \n",
      " improvement_surcharge | 0.3                  \n",
      " total_amount          | 35.3                 \n",
      " congestion_surcharge  | 0.0                  \n",
      " airport_fee           | null                 \n",
      "-RECORD 13------------------------------------\n",
      " Vendor                | Creative Mobile T... \n",
      " tpep_pickup_datetime  | 2019-08-01 02:46:05  \n",
      " tpep_dropoff_datetime | 2019-08-01 02:52:01  \n",
      " passenger_count       | null                 \n",
      " trip_distance         | 1.0                  \n",
      " Rate_type             | Standard rate        \n",
      " store_and_fwd_flag    | N                    \n",
      " PU_Location           | Manhattan,SoHo       \n",
      " DO_Location           | Manhattan,SoHo       \n",
      " payment_type          | Credit card          \n",
      " fare_amount           | 6.0                  \n",
      " extra                 | 3.0                  \n",
      " mta_tax               | 0.5                  \n",
      " tip_amount            | 1.95                 \n",
      " tolls_amount          | 0.0                  \n",
      " improvement_surcharge | 0.3                  \n",
      " total_amount          | 11.75                \n",
      " congestion_surcharge  | 2.5                  \n",
      " airport_fee           | null                 \n",
      "-RECORD 14------------------------------------\n",
      " Vendor                | Creative Mobile T... \n",
      " tpep_pickup_datetime  | 2019-08-01 02:56:29  \n",
      " tpep_dropoff_datetime | 2019-08-01 03:01:53  \n",
      " passenger_count       | null                 \n",
      " trip_distance         | 1.5                  \n",
      " Rate_type             | Standard rate        \n",
      " store_and_fwd_flag    | N                    \n",
      " PU_Location           | Manhattan,West Vi... \n",
      " DO_Location           | Manhattan,East Ch... \n",
      " payment_type          | Credit card          \n",
      " fare_amount           | 6.5                  \n",
      " extra                 | 3.0                  \n",
      " mta_tax               | 0.5                  \n",
      " tip_amount            | 2.05                 \n",
      " tolls_amount          | 0.0                  \n",
      " improvement_surcharge | 0.3                  \n",
      " total_amount          | 12.35                \n",
      " congestion_surcharge  | 2.5                  \n",
      " airport_fee           | null                 \n",
      "-RECORD 15------------------------------------\n",
      " Vendor                | Creative Mobile T... \n",
      " tpep_pickup_datetime  | 2019-08-01 02:00:24  \n",
      " tpep_dropoff_datetime | 2019-08-01 02:12:12  \n",
      " passenger_count       | 1.0                  \n",
      " trip_distance         | 1.8                  \n",
      " Rate_type             | Standard rate        \n",
      " store_and_fwd_flag    | N                    \n",
      " PU_Location           | Manhattan,Midtown... \n",
      " DO_Location           | Manhattan,East Ch... \n",
      " payment_type          | Credit card          \n",
      " fare_amount           | 9.5                  \n",
      " extra                 | 3.0                  \n",
      " mta_tax               | 0.5                  \n",
      " tip_amount            | 2.65                 \n",
      " tolls_amount          | 0.0                  \n",
      " improvement_surcharge | 0.3                  \n",
      " total_amount          | 15.95                \n",
      " congestion_surcharge  | 2.5                  \n",
      " airport_fee           | null                 \n",
      "-RECORD 16------------------------------------\n",
      " Vendor                | Creative Mobile T... \n",
      " tpep_pickup_datetime  | 2019-08-01 02:13:26  \n",
      " tpep_dropoff_datetime | 2019-08-01 02:18:00  \n",
      " passenger_count       | 1.0                  \n",
      " trip_distance         | 0.6                  \n",
      " Rate_type             | Standard rate        \n",
      " store_and_fwd_flag    | N                    \n",
      " PU_Location           | Manhattan,East Ch... \n",
      " DO_Location           | Manhattan,East Ch... \n",
      " payment_type          | null                 \n",
      " fare_amount           | 5.0                  \n",
      " extra                 | 3.0                  \n",
      " mta_tax               | 0.5                  \n",
      " tip_amount            | 1.75                 \n",
      " tolls_amount          | 0.0                  \n",
      " improvement_surcharge | 0.3                  \n",
      " total_amount          | 10.55                \n",
      " congestion_surcharge  | 2.5                  \n",
      " airport_fee           | null                 \n",
      "-RECORD 17------------------------------------\n",
      " Vendor                | Creative Mobile T... \n",
      " tpep_pickup_datetime  | 2019-08-01 02:09:27  \n",
      " tpep_dropoff_datetime | 2019-08-01 02:21:50  \n",
      " passenger_count       | 2.0                  \n",
      " trip_distance         | 1.3                  \n",
      " Rate_type             | Standard rate        \n",
      " store_and_fwd_flag    | N                    \n",
      " PU_Location           | Manhattan,Midtown... \n",
      " DO_Location           | Manhattan,Clinton... \n",
      " payment_type          | Credit card          \n",
      " fare_amount           | 9.5                  \n",
      " extra                 | 3.0                  \n",
      " mta_tax               | 0.5                  \n",
      " tip_amount            | 2.65                 \n",
      " tolls_amount          | 0.0                  \n",
      " improvement_surcharge | 0.3                  \n",
      " total_amount          | 15.95                \n",
      " congestion_surcharge  | 2.5                  \n",
      " airport_fee           | null                 \n",
      "-RECORD 18------------------------------------\n",
      " Vendor                | Creative Mobile T... \n",
      " tpep_pickup_datetime  | 2019-08-01 02:35:23  \n",
      " tpep_dropoff_datetime | 2019-08-01 02:42:48  \n",
      " passenger_count       | 1.0                  \n",
      " trip_distance         | 1.0                  \n",
      " Rate_type             | Standard rate        \n",
      " store_and_fwd_flag    | N                    \n",
      " PU_Location           | Manhattan,Clinton... \n",
      " DO_Location           | Manhattan,Times S... \n",
      " payment_type          | Cash                 \n",
      " fare_amount           | 7.0                  \n",
      " extra                 | 3.0                  \n",
      " mta_tax               | 0.5                  \n",
      " tip_amount            | 0.0                  \n",
      " tolls_amount          | 0.0                  \n",
      " improvement_surcharge | 0.3                  \n",
      " total_amount          | 10.8                 \n",
      " congestion_surcharge  | 2.5                  \n",
      " airport_fee           | null                 \n",
      "-RECORD 19------------------------------------\n",
      " Vendor                | Creative Mobile T... \n",
      " tpep_pickup_datetime  | 2019-08-01 02:47:56  \n",
      " tpep_dropoff_datetime | 2019-08-01 02:53:00  \n",
      " passenger_count       | 2.0                  \n",
      " trip_distance         | 1.2                  \n",
      " Rate_type             | Standard rate        \n",
      " store_and_fwd_flag    | N                    \n",
      " PU_Location           | Manhattan,Midtown... \n",
      " DO_Location           | Manhattan,UN/Turt... \n",
      " payment_type          | Credit card          \n",
      " fare_amount           | 6.0                  \n",
      " extra                 | 3.0                  \n",
      " mta_tax               | 0.5                  \n",
      " tip_amount            | 1.0                  \n",
      " tolls_amount          | 0.0                  \n",
      " improvement_surcharge | 0.3                  \n",
      " total_amount          | 10.8                 \n",
      " congestion_surcharge  | 2.5                  \n",
      " airport_fee           | null                 \n",
      "only showing top 20 rows\n",
      "\n"
     ]
    }
   ],
   "source": [
    "df.show(20,vertical=True)"
   ]
  },
  {
   "cell_type": "markdown",
   "id": "361aa495",
   "metadata": {
    "heading_collapsed": true,
    "hidden": true
   },
   "source": [
    "### How many partitions is this dataframe split into?"
   ]
  },
  {
   "cell_type": "code",
   "execution_count": 8,
   "id": "c0151823",
   "metadata": {
    "ExecuteTime": {
     "end_time": "2023-12-02T19:01:40.634536Z",
     "start_time": "2023-12-02T19:01:40.560992Z"
    },
    "hidden": true
   },
   "outputs": [
    {
     "data": {
      "text/plain": [
       "16"
      ]
     },
     "execution_count": 8,
     "metadata": {},
     "output_type": "execute_result"
    }
   ],
   "source": [
    "df.rdd.getNumPartitions()"
   ]
  },
  {
   "cell_type": "markdown",
   "id": "7cd45fad",
   "metadata": {
    "heading_collapsed": true
   },
   "source": [
    "## Basic cleaning"
   ]
  },
  {
   "cell_type": "markdown",
   "id": "4e30192c",
   "metadata": {
    "heading_collapsed": true,
    "hidden": true
   },
   "source": [
    "### rename all columns (replacing a space with an underscore, and making it lowercase)"
   ]
  },
  {
   "cell_type": "code",
   "execution_count": 47,
   "id": "blond-calgary",
   "metadata": {
    "ExecuteTime": {
     "end_time": "2023-12-02T19:08:24.365343Z",
     "start_time": "2023-12-02T19:08:24.362346Z"
    },
    "hidden": true
   },
   "outputs": [],
   "source": [
    "def renameColumns(colList):\n",
    "    renameMap = {}\n",
    "    for col in colList:\n",
    "        newName = col.replace(\" \",\"_\").lower()\n",
    "        renameMap[col] = newName\n",
    "    return renameMap"
   ]
  },
  {
   "cell_type": "code",
   "execution_count": 10,
   "id": "1a36b9c8",
   "metadata": {
    "ExecuteTime": {
     "end_time": "2023-12-02T19:01:40.794357Z",
     "start_time": "2023-12-02T19:01:40.641798Z"
    },
    "hidden": true
   },
   "outputs": [
    {
     "data": {
      "text/plain": [
       "['vendor',\n",
       " 'tpep_pickup_datetime',\n",
       " 'tpep_dropoff_datetime',\n",
       " 'passenger_count',\n",
       " 'trip_distance',\n",
       " 'rate_type',\n",
       " 'store_and_fwd_flag',\n",
       " 'pu_location',\n",
       " 'do_location',\n",
       " 'payment_type',\n",
       " 'fare_amount',\n",
       " 'extra',\n",
       " 'mta_tax',\n",
       " 'tip_amount',\n",
       " 'tolls_amount',\n",
       " 'improvement_surcharge',\n",
       " 'total_amount',\n",
       " 'congestion_surcharge',\n",
       " 'airport_fee']"
      ]
     },
     "execution_count": 10,
     "metadata": {},
     "output_type": "execute_result"
    }
   ],
   "source": [
    "cols = df.columns\n",
    "renameMap = renameColumns(cols)\n",
    "df_clean_columns = df\n",
    "for col in renameMap:\n",
    "    df_clean_columns = df_clean_columns.withColumnRenamed(col, renameMap[col])\n",
    "df_clean_columns.columns"
   ]
  },
  {
   "cell_type": "markdown",
   "id": "8b3afbda",
   "metadata": {
    "heading_collapsed": true,
    "hidden": true
   },
   "source": [
    "### Detect and remove duplicates\n",
    "- Duplicates are trips with same pickup time,pickup location, dropoff time,drop off location and trip distance"
   ]
  },
  {
   "cell_type": "code",
   "execution_count": 11,
   "id": "19a08746",
   "metadata": {
    "ExecuteTime": {
     "end_time": "2023-12-02T19:01:40.806560Z",
     "start_time": "2023-12-02T19:01:40.796585Z"
    },
    "hidden": true
   },
   "outputs": [],
   "source": [
    "df_without_duplicates = df_clean_columns.dropDuplicates(subset=[\"tpep_pickup_datetime\", \"pu_location\", \"tpep_dropoff_datetime\", \"do_location\", \"trip_distance\"])"
   ]
  },
  {
   "cell_type": "markdown",
   "id": "fe15c117",
   "metadata": {
    "heading_collapsed": true,
    "hidden": true
   },
   "source": [
    "### check that there is are no duplicates"
   ]
  },
  {
   "cell_type": "code",
   "execution_count": 12,
   "id": "c169dd4d",
   "metadata": {
    "ExecuteTime": {
     "end_time": "2023-12-02T19:01:51.561887Z",
     "start_time": "2023-12-02T19:01:40.808216Z"
    },
    "hidden": true
   },
   "outputs": [
    {
     "data": {
      "text/plain": [
       "0"
      ]
     },
     "execution_count": 12,
     "metadata": {},
     "output_type": "execute_result"
    }
   ],
   "source": [
    "df_without_duplicates.select(\"tpep_pickup_datetime\", \"pu_location\", \"tpep_dropoff_datetime\", \"do_location\", \"trip_distance\").count() - df_without_duplicates.select(\"tpep_pickup_datetime\", \"pu_location\", \"tpep_dropoff_datetime\", \"do_location\", \"trip_distance\").distinct().count() "
   ]
  },
  {
   "cell_type": "markdown",
   "id": "76a487be",
   "metadata": {
    "heading_collapsed": true,
    "hidden": true
   },
   "source": [
    "### Detect missing\n",
    "- Create a function that takes in the df and returns any data structrue of your choice(df/dict,list,tuple,etc) which has the name of the column and percentage of missing entries from the whole dataset.\n",
    "- Tip : storing the missing info as dict where the key is the column name and value is the percentage would be the easiest.  "
   ]
  },
  {
   "cell_type": "code",
   "execution_count": 13,
   "id": "9a2291b5",
   "metadata": {
    "ExecuteTime": {
     "end_time": "2023-12-02T19:01:51.566852Z",
     "start_time": "2023-12-02T19:01:51.563764Z"
    },
    "hidden": true
   },
   "outputs": [],
   "source": [
    "def detectDuplicates(df):\n",
    "    percs = {}\n",
    "    cols = df.columns\n",
    "    df_size = df.count()\n",
    "    for col in cols:\n",
    "        colNullCount = df.filter(df[col].isNull()).count()\n",
    "        percs[col] = colNullCount/df_size*100\n",
    "    return percs"
   ]
  },
  {
   "cell_type": "code",
   "execution_count": 14,
   "id": "dbb209f7",
   "metadata": {
    "ExecuteTime": {
     "end_time": "2023-12-02T19:03:45.916346Z",
     "start_time": "2023-12-02T19:01:51.568649Z"
    },
    "hidden": true
   },
   "outputs": [],
   "source": [
    "null_count = detectDuplicates(df_without_duplicates)"
   ]
  },
  {
   "cell_type": "markdown",
   "id": "0e459348",
   "metadata": {
    "heading_collapsed": true,
    "hidden": true
   },
   "source": [
    "### Prinout the missing info"
   ]
  },
  {
   "cell_type": "code",
   "execution_count": 15,
   "id": "41010a35",
   "metadata": {
    "ExecuteTime": {
     "end_time": "2023-12-02T19:03:45.928431Z",
     "start_time": "2023-12-02T19:03:45.918085Z"
    },
    "hidden": true
   },
   "outputs": [
    {
     "data": {
      "text/plain": [
       "{'vendor': 0.0,\n",
       " 'tpep_pickup_datetime': 0.0,\n",
       " 'tpep_dropoff_datetime': 0.0,\n",
       " 'passenger_count': 2.3703069264530052,\n",
       " 'trip_distance': 0.0,\n",
       " 'rate_type': 0.0,\n",
       " 'store_and_fwd_flag': 0.5498882351048214,\n",
       " 'pu_location': 0.0,\n",
       " 'do_location': 0.0,\n",
       " 'payment_type': 5.8679334179924565,\n",
       " 'fare_amount': 0.0,\n",
       " 'extra': 35.78422320303585,\n",
       " 'mta_tax': 0.0,\n",
       " 'tip_amount': 0.0,\n",
       " 'tolls_amount': 0.0,\n",
       " 'improvement_surcharge': 0.0,\n",
       " 'total_amount': 0.0,\n",
       " 'congestion_surcharge': 0.5498882351048214,\n",
       " 'airport_fee': 100.0}"
      ]
     },
     "execution_count": 15,
     "metadata": {},
     "output_type": "execute_result"
    }
   ],
   "source": [
    "null_count"
   ]
  },
  {
   "cell_type": "markdown",
   "id": "ead65669",
   "metadata": {
    "heading_collapsed": true,
    "hidden": true
   },
   "source": [
    "### Handle missing\n",
    "- For numerical features replace with 0.\n",
    "- For categorical/strings replace with 'Unknown'\n"
   ]
  },
  {
   "cell_type": "code",
   "execution_count": 16,
   "id": "3d78a72f",
   "metadata": {
    "ExecuteTime": {
     "end_time": "2023-12-02T19:03:45.937111Z",
     "start_time": "2023-12-02T19:03:45.929666Z"
    },
    "hidden": true
   },
   "outputs": [],
   "source": [
    "df_imputed = df_without_duplicates"
   ]
  },
  {
   "cell_type": "code",
   "execution_count": 17,
   "id": "85e3a9c9",
   "metadata": {
    "ExecuteTime": {
     "end_time": "2023-12-02T19:03:46.120886Z",
     "start_time": "2023-12-02T19:03:45.939484Z"
    },
    "hidden": true
   },
   "outputs": [],
   "source": [
    "df_imputed = df_imputed.fillna(value=0, subset=[\"passenger_count\",\"extra\",\"congestion_surcharge\",\"airport_fee\"])"
   ]
  },
  {
   "cell_type": "code",
   "execution_count": 18,
   "id": "7c4d54a9",
   "metadata": {
    "ExecuteTime": {
     "end_time": "2023-12-02T19:03:46.141353Z",
     "start_time": "2023-12-02T19:03:46.122475Z"
    },
    "hidden": true
   },
   "outputs": [],
   "source": [
    "df_imputed = df_imputed.fillna(value=\"Unknown\", subset=[\"payment_type\",\"store_and_fwd_flag\"])"
   ]
  },
  {
   "cell_type": "markdown",
   "id": "aa139136",
   "metadata": {
    "heading_collapsed": true,
    "hidden": true
   },
   "source": [
    "### check that there are no missing values"
   ]
  },
  {
   "cell_type": "code",
   "execution_count": 20,
   "id": "17333948",
   "metadata": {
    "ExecuteTime": {
     "end_time": "2023-12-02T19:05:00.768436Z",
     "start_time": "2023-12-02T19:03:46.146651Z"
    },
    "hidden": true
   },
   "outputs": [],
   "source": [
    "null_count = detectDuplicates(df_imputed)"
   ]
  },
  {
   "cell_type": "code",
   "execution_count": 21,
   "id": "8f2a0861",
   "metadata": {
    "ExecuteTime": {
     "end_time": "2023-12-02T19:05:00.773441Z",
     "start_time": "2023-12-02T19:05:00.769895Z"
    },
    "hidden": true
   },
   "outputs": [
    {
     "data": {
      "text/plain": [
       "{'vendor': 0.0,\n",
       " 'tpep_pickup_datetime': 0.0,\n",
       " 'tpep_dropoff_datetime': 0.0,\n",
       " 'passenger_count': 0.0,\n",
       " 'trip_distance': 0.0,\n",
       " 'rate_type': 0.0,\n",
       " 'store_and_fwd_flag': 0.0,\n",
       " 'pu_location': 0.0,\n",
       " 'do_location': 0.0,\n",
       " 'payment_type': 0.0,\n",
       " 'fare_amount': 0.0,\n",
       " 'extra': 0.0,\n",
       " 'mta_tax': 0.0,\n",
       " 'tip_amount': 0.0,\n",
       " 'tolls_amount': 0.0,\n",
       " 'improvement_surcharge': 0.0,\n",
       " 'total_amount': 0.0,\n",
       " 'congestion_surcharge': 0.0,\n",
       " 'airport_fee': 0.0}"
      ]
     },
     "execution_count": 21,
     "metadata": {},
     "output_type": "execute_result"
    }
   ],
   "source": [
    "null_count"
   ]
  },
  {
   "cell_type": "markdown",
   "id": "36ac1d9f",
   "metadata": {
    "heading_collapsed": true
   },
   "source": [
    "## Feature engineering - \n",
    "Write a function that adds the 3 following features. Use built in fucntions in PySpark (from the functions library) check lab 8, Avoid writing UDFs from scratch.\n",
    "- trip duration (the format/unit is up to you)\n",
    "- is_weekend. whether the trip occurred on Saturday or Sunday.\n",
    "- week number (relevant to the month and not year, i.e 1,2,3,4 nto 31,32,33...) "
   ]
  },
  {
   "cell_type": "code",
   "execution_count": 22,
   "id": "3d3fcc55",
   "metadata": {
    "ExecuteTime": {
     "end_time": "2023-12-02T19:05:00.784815Z",
     "start_time": "2023-12-02T19:05:00.775068Z"
    },
    "hidden": true
   },
   "outputs": [],
   "source": [
    "week_number = fn.date_format(df_imputed.tpep_pickup_datetime, \"W\")"
   ]
  },
  {
   "cell_type": "code",
   "execution_count": 23,
   "id": "783d9bcb",
   "metadata": {
    "ExecuteTime": {
     "end_time": "2023-12-02T19:05:00.971981Z",
     "start_time": "2023-12-02T19:05:00.786642Z"
    },
    "hidden": true
   },
   "outputs": [],
   "source": [
    "trip_durations = df_imputed.tpep_dropoff_datetime.cast(\"long\") - df_imputed.tpep_pickup_datetime.cast(\"long\")"
   ]
  },
  {
   "cell_type": "code",
   "execution_count": 24,
   "id": "b5a59334",
   "metadata": {
    "ExecuteTime": {
     "end_time": "2023-12-02T19:05:00.994661Z",
     "start_time": "2023-12-02T19:05:00.973606Z"
    },
    "hidden": true
   },
   "outputs": [],
   "source": [
    "is_weekend = fn.dayofweek(df_imputed.tpep_pickup_datetime)\n",
    "is_weekend = fn.when(is_weekend == 1, 1).otherwise(fn.when(is_weekend == 7, 1).otherwise(0))"
   ]
  },
  {
   "cell_type": "code",
   "execution_count": 25,
   "id": "physical-sarah",
   "metadata": {
    "ExecuteTime": {
     "end_time": "2023-12-02T19:05:01.028314Z",
     "start_time": "2023-12-02T19:05:00.996481Z"
    },
    "hidden": true
   },
   "outputs": [],
   "source": [
    "df_engineered = df_imputed.withColumn(\"trip_duration\", trip_durations).withColumn(\"is_weekend\", is_weekend).withColumn(\"week_number\", week_number)"
   ]
  },
  {
   "cell_type": "code",
   "execution_count": 49,
   "id": "operating-pledge",
   "metadata": {
    "ExecuteTime": {
     "end_time": "2023-12-02T19:09:01.172077Z",
     "start_time": "2023-12-02T19:09:01.168025Z"
    },
    "hidden": true
   },
   "outputs": [
    {
     "data": {
      "text/plain": [
       "['vendor',\n",
       " 'tpep_pickup_datetime',\n",
       " 'tpep_dropoff_datetime',\n",
       " 'passenger_count',\n",
       " 'trip_distance',\n",
       " 'rate_type',\n",
       " 'store_and_fwd_flag',\n",
       " 'pu_location',\n",
       " 'do_location',\n",
       " 'payment_type',\n",
       " 'fare_amount',\n",
       " 'extra',\n",
       " 'mta_tax',\n",
       " 'tip_amount',\n",
       " 'tolls_amount',\n",
       " 'improvement_surcharge',\n",
       " 'total_amount',\n",
       " 'congestion_surcharge',\n",
       " 'airport_fee',\n",
       " 'trip_duration',\n",
       " 'is_weekend',\n",
       " 'week_number']"
      ]
     },
     "execution_count": 49,
     "metadata": {},
     "output_type": "execute_result"
    }
   ],
   "source": [
    "df_engineered.columns"
   ]
  },
  {
   "cell_type": "code",
   "execution_count": 50,
   "id": "dedicated-feedback",
   "metadata": {
    "ExecuteTime": {
     "end_time": "2023-12-02T19:09:40.910728Z",
     "start_time": "2023-12-02T19:09:33.096978Z"
    },
    "hidden": true
   },
   "outputs": [
    {
     "name": "stdout",
     "output_type": "stream",
     "text": [
      "-RECORD 0-------------------------------------\n",
      " vendor                | VeriFone Inc.        \n",
      " tpep_pickup_datetime  | 2019-07-31 19:32:07  \n",
      " tpep_dropoff_datetime | 2019-07-31 19:50:01  \n",
      " passenger_count       | 1.0                  \n",
      " trip_distance         | 12.43                \n",
      " rate_type             | Standard rate        \n",
      " store_and_fwd_flag    | N                    \n",
      " pu_location           | Queens,LaGuardia ... \n",
      " do_location           | Bronx,Belmont        \n",
      " payment_type          | Cash                 \n",
      " fare_amount           | 34.0                 \n",
      " extra                 | 0.5                  \n",
      " mta_tax               | 0.5                  \n",
      " tip_amount            | 0.0                  \n",
      " tolls_amount          | 6.12                 \n",
      " improvement_surcharge | 0.3                  \n",
      " total_amount          | 41.42                \n",
      " congestion_surcharge  | 0.0                  \n",
      " airport_fee           | 0                    \n",
      " trip_duration         | 1074                 \n",
      " is_weekend            | 0                    \n",
      " week_number           | 5                    \n",
      "-RECORD 1-------------------------------------\n",
      " vendor                | Creative Mobile T... \n",
      " tpep_pickup_datetime  | 2019-08-01 02:00:01  \n",
      " tpep_dropoff_datetime | 2019-08-01 02:00:04  \n",
      " passenger_count       | 1.0                  \n",
      " trip_distance         | 0.0                  \n",
      " rate_type             | Standard rate        \n",
      " store_and_fwd_flag    | N                    \n",
      " pu_location           | Manhattan,Midtown... \n",
      " do_location           | Manhattan,Midtown... \n",
      " payment_type          | No charge            \n",
      " fare_amount           | 2.5                  \n",
      " extra                 | 3.0                  \n",
      " mta_tax               | 0.5                  \n",
      " tip_amount            | 0.0                  \n",
      " tolls_amount          | 0.0                  \n",
      " improvement_surcharge | 0.3                  \n",
      " total_amount          | 6.3                  \n",
      " congestion_surcharge  | 2.5                  \n",
      " airport_fee           | 0                    \n",
      " trip_duration         | 3                    \n",
      " is_weekend            | 0                    \n",
      " week_number           | 1                    \n",
      "-RECORD 2-------------------------------------\n",
      " vendor                | VeriFone Inc.        \n",
      " tpep_pickup_datetime  | 2019-08-01 02:05:09  \n",
      " tpep_dropoff_datetime | 2019-08-01 02:08:19  \n",
      " passenger_count       | 1.0                  \n",
      " trip_distance         | 0.7                  \n",
      " rate_type             | Standard rate        \n",
      " store_and_fwd_flag    | N                    \n",
      " pu_location           | Manhattan,Washing... \n",
      " do_location           | Manhattan,Hamilto... \n",
      " payment_type          | Cash                 \n",
      " fare_amount           | 4.5                  \n",
      " extra                 | 0.5                  \n",
      " mta_tax               | 0.5                  \n",
      " tip_amount            | 0.0                  \n",
      " tolls_amount          | 0.0                  \n",
      " improvement_surcharge | 0.3                  \n",
      " total_amount          | 5.8                  \n",
      " congestion_surcharge  | 0.0                  \n",
      " airport_fee           | 0                    \n",
      " trip_duration         | 190                  \n",
      " is_weekend            | 0                    \n",
      " week_number           | 1                    \n",
      "-RECORD 3-------------------------------------\n",
      " vendor                | VeriFone Inc.        \n",
      " tpep_pickup_datetime  | 2019-08-01 02:08:09  \n",
      " tpep_dropoff_datetime | 2019-08-01 02:12:03  \n",
      " passenger_count       | 1.0                  \n",
      " trip_distance         | 1.07                 \n",
      " rate_type             | Standard rate        \n",
      " store_and_fwd_flag    | N                    \n",
      " pu_location           | Manhattan,Clinton... \n",
      " do_location           | Manhattan,East Ch... \n",
      " payment_type          | Cash                 \n",
      " fare_amount           | 5.5                  \n",
      " extra                 | 0.5                  \n",
      " mta_tax               | 0.5                  \n",
      " tip_amount            | 0.0                  \n",
      " tolls_amount          | 0.0                  \n",
      " improvement_surcharge | 0.3                  \n",
      " total_amount          | 9.3                  \n",
      " congestion_surcharge  | 2.5                  \n",
      " airport_fee           | 0                    \n",
      " trip_duration         | 234                  \n",
      " is_weekend            | 0                    \n",
      " week_number           | 1                    \n",
      "-RECORD 4-------------------------------------\n",
      " vendor                | Creative Mobile T... \n",
      " tpep_pickup_datetime  | 2019-08-01 02:08:30  \n",
      " tpep_dropoff_datetime | 2019-08-01 02:12:30  \n",
      " passenger_count       | 1.0                  \n",
      " trip_distance         | 0.8                  \n",
      " rate_type             | Standard rate        \n",
      " store_and_fwd_flag    | N                    \n",
      " pu_location           | Manhattan,Lenox H... \n",
      " do_location           | Manhattan,Upper E... \n",
      " payment_type          | Credit card          \n",
      " fare_amount           | 5.0                  \n",
      " extra                 | 3.0                  \n",
      " mta_tax               | 0.5                  \n",
      " tip_amount            | 2.6                  \n",
      " tolls_amount          | 0.0                  \n",
      " improvement_surcharge | 0.3                  \n",
      " total_amount          | 11.4                 \n",
      " congestion_surcharge  | 2.5                  \n",
      " airport_fee           | 0                    \n",
      " trip_duration         | 240                  \n",
      " is_weekend            | 0                    \n",
      " week_number           | 1                    \n",
      "-RECORD 5-------------------------------------\n",
      " vendor                | VeriFone Inc.        \n",
      " tpep_pickup_datetime  | 2019-08-01 02:01:13  \n",
      " tpep_dropoff_datetime | 2019-08-01 02:13:49  \n",
      " passenger_count       | 1.0                  \n",
      " trip_distance         | 3.28                 \n",
      " rate_type             | Standard rate        \n",
      " store_and_fwd_flag    | N                    \n",
      " pu_location           | Manhattan,Lower E... \n",
      " do_location           | Manhattan,Sutton ... \n",
      " payment_type          | Credit card          \n",
      " fare_amount           | 12.5                 \n",
      " extra                 | 0.5                  \n",
      " mta_tax               | 0.5                  \n",
      " tip_amount            | 2.0                  \n",
      " tolls_amount          | 0.0                  \n",
      " improvement_surcharge | 0.3                  \n",
      " total_amount          | 18.3                 \n",
      " congestion_surcharge  | 2.5                  \n",
      " airport_fee           | 0                    \n",
      " trip_duration         | 756                  \n",
      " is_weekend            | 0                    \n",
      " week_number           | 1                    \n",
      "-RECORD 6-------------------------------------\n",
      " vendor                | Creative Mobile T... \n",
      " tpep_pickup_datetime  | 2019-08-01 02:05:43  \n",
      " tpep_dropoff_datetime | 2019-08-01 02:14:14  \n",
      " passenger_count       | 1.0                  \n",
      " trip_distance         | 1.9                  \n",
      " rate_type             | Standard rate        \n",
      " store_and_fwd_flag    | N                    \n",
      " pu_location           | Manhattan,TriBeCa... \n",
      " do_location           | Manhattan,East Ch... \n",
      " payment_type          | Credit card          \n",
      " fare_amount           | 8.5                  \n",
      " extra                 | 3.0                  \n",
      " mta_tax               | 0.5                  \n",
      " tip_amount            | 1.7                  \n",
      " tolls_amount          | 0.0                  \n",
      " improvement_surcharge | 0.3                  \n",
      " total_amount          | 14.0                 \n",
      " congestion_surcharge  | 2.5                  \n",
      " airport_fee           | 0                    \n",
      " trip_duration         | 511                  \n",
      " is_weekend            | 0                    \n",
      " week_number           | 1                    \n",
      "-RECORD 7-------------------------------------\n",
      " vendor                | VeriFone Inc.        \n",
      " tpep_pickup_datetime  | 2019-08-01 02:10:27  \n",
      " tpep_dropoff_datetime | 2019-08-01 02:14:45  \n",
      " passenger_count       | 1.0                  \n",
      " trip_distance         | 1.62                 \n",
      " rate_type             | Standard rate        \n",
      " store_and_fwd_flag    | N                    \n",
      " pu_location           | Manhattan,West Ch... \n",
      " do_location           | Manhattan,Clinton... \n",
      " payment_type          | Cash                 \n",
      " fare_amount           | 6.5                  \n",
      " extra                 | 0.5                  \n",
      " mta_tax               | 0.5                  \n",
      " tip_amount            | 0.0                  \n",
      " tolls_amount          | 0.0                  \n",
      " improvement_surcharge | 0.3                  \n",
      " total_amount          | 10.3                 \n",
      " congestion_surcharge  | 2.5                  \n",
      " airport_fee           | 0                    \n",
      " trip_duration         | 258                  \n",
      " is_weekend            | 0                    \n",
      " week_number           | 1                    \n",
      "-RECORD 8-------------------------------------\n",
      " vendor                | VeriFone Inc.        \n",
      " tpep_pickup_datetime  | 2019-08-01 02:07:16  \n",
      " tpep_dropoff_datetime | 2019-08-01 02:18:32  \n",
      " passenger_count       | 4.0                  \n",
      " trip_distance         | 2.05                 \n",
      " rate_type             | Standard rate        \n",
      " store_and_fwd_flag    | N                    \n",
      " pu_location           | Manhattan,Midtown... \n",
      " do_location           | Manhattan,Penn St... \n",
      " payment_type          | Credit card          \n",
      " fare_amount           | 9.5                  \n",
      " extra                 | 0.5                  \n",
      " mta_tax               | 0.5                  \n",
      " tip_amount            | 2.66                 \n",
      " tolls_amount          | 0.0                  \n",
      " improvement_surcharge | 0.3                  \n",
      " total_amount          | 15.96                \n",
      " congestion_surcharge  | 2.5                  \n",
      " airport_fee           | 0                    \n",
      " trip_duration         | 676                  \n",
      " is_weekend            | 0                    \n",
      " week_number           | 1                    \n",
      "-RECORD 9-------------------------------------\n",
      " vendor                | Creative Mobile T... \n",
      " tpep_pickup_datetime  | 2019-08-01 02:15:10  \n",
      " tpep_dropoff_datetime | 2019-08-01 02:18:51  \n",
      " passenger_count       | 1.0                  \n",
      " trip_distance         | 1.3                  \n",
      " rate_type             | Standard rate        \n",
      " store_and_fwd_flag    | N                    \n",
      " pu_location           | Manhattan,Garment... \n",
      " do_location           | Manhattan,Lincoln... \n",
      " payment_type          | Credit card          \n",
      " fare_amount           | 5.5                  \n",
      " extra                 | 3.0                  \n",
      " mta_tax               | 0.5                  \n",
      " tip_amount            | 2.3                  \n",
      " tolls_amount          | 0.0                  \n",
      " improvement_surcharge | 0.3                  \n",
      " total_amount          | 11.6                 \n",
      " congestion_surcharge  | 2.5                  \n",
      " airport_fee           | 0                    \n",
      " trip_duration         | 221                  \n",
      " is_weekend            | 0                    \n",
      " week_number           | 1                    \n",
      "-RECORD 10------------------------------------\n",
      " vendor                | Creative Mobile T... \n",
      " tpep_pickup_datetime  | 2019-08-01 02:09:27  \n",
      " tpep_dropoff_datetime | 2019-08-01 02:21:50  \n",
      " passenger_count       | 2.0                  \n",
      " trip_distance         | 1.3                  \n",
      " rate_type             | Standard rate        \n",
      " store_and_fwd_flag    | N                    \n",
      " pu_location           | Manhattan,Midtown... \n",
      " do_location           | Manhattan,Clinton... \n",
      " payment_type          | Credit card          \n",
      " fare_amount           | 9.5                  \n",
      " extra                 | 3.0                  \n",
      " mta_tax               | 0.5                  \n",
      " tip_amount            | 2.65                 \n",
      " tolls_amount          | 0.0                  \n",
      " improvement_surcharge | 0.3                  \n",
      " total_amount          | 15.95                \n",
      " congestion_surcharge  | 2.5                  \n",
      " airport_fee           | 0                    \n",
      " trip_duration         | 743                  \n",
      " is_weekend            | 0                    \n",
      " week_number           | 1                    \n",
      "-RECORD 11------------------------------------\n",
      " vendor                | VeriFone Inc.        \n",
      " tpep_pickup_datetime  | 2019-08-01 02:11:19  \n",
      " tpep_dropoff_datetime | 2019-08-01 02:25:46  \n",
      " passenger_count       | 1.0                  \n",
      " trip_distance         | 2.53                 \n",
      " rate_type             | Standard rate        \n",
      " store_and_fwd_flag    | N                    \n",
      " pu_location           | Manhattan,Morning... \n",
      " do_location           | Manhattan,Washing... \n",
      " payment_type          | Credit card          \n",
      " fare_amount           | 11.5                 \n",
      " extra                 | 0.5                  \n",
      " mta_tax               | 0.5                  \n",
      " tip_amount            | 2.56                 \n",
      " tolls_amount          | 0.0                  \n",
      " improvement_surcharge | 0.3                  \n",
      " total_amount          | 15.36                \n",
      " congestion_surcharge  | 0.0                  \n",
      " airport_fee           | 0                    \n",
      " trip_duration         | 867                  \n",
      " is_weekend            | 0                    \n",
      " week_number           | 1                    \n",
      "-RECORD 12------------------------------------\n",
      " vendor                | VeriFone Inc.        \n",
      " tpep_pickup_datetime  | 2019-08-01 02:29:53  \n",
      " tpep_dropoff_datetime | 2019-08-01 02:33:23  \n",
      " passenger_count       | 1.0                  \n",
      " trip_distance         | 0.65                 \n",
      " rate_type             | Standard rate        \n",
      " store_and_fwd_flag    | N                    \n",
      " pu_location           | Manhattan,Upper W... \n",
      " do_location           | Manhattan,Bloomin... \n",
      " payment_type          | Cash                 \n",
      " fare_amount           | 5.0                  \n",
      " extra                 | 0.5                  \n",
      " mta_tax               | 0.5                  \n",
      " tip_amount            | 0.0                  \n",
      " tolls_amount          | 0.0                  \n",
      " improvement_surcharge | 0.3                  \n",
      " total_amount          | 6.3                  \n",
      " congestion_surcharge  | 0.0                  \n",
      " airport_fee           | 0                    \n",
      " trip_duration         | 210                  \n",
      " is_weekend            | 0                    \n",
      " week_number           | 1                    \n",
      "-RECORD 13------------------------------------\n",
      " vendor                | VeriFone Inc.        \n",
      " tpep_pickup_datetime  | 2019-08-01 02:31:25  \n",
      " tpep_dropoff_datetime | 2019-08-01 02:35:31  \n",
      " passenger_count       | 2.0                  \n",
      " trip_distance         | 0.94                 \n",
      " rate_type             | Standard rate        \n",
      " store_and_fwd_flag    | N                    \n",
      " pu_location           | Manhattan,Gramercy   \n",
      " do_location           | Manhattan,Murray ... \n",
      " payment_type          | Cash                 \n",
      " fare_amount           | 5.5                  \n",
      " extra                 | 0.5                  \n",
      " mta_tax               | 0.5                  \n",
      " tip_amount            | 0.0                  \n",
      " tolls_amount          | 0.0                  \n",
      " improvement_surcharge | 0.3                  \n",
      " total_amount          | 9.3                  \n",
      " congestion_surcharge  | 2.5                  \n",
      " airport_fee           | 0                    \n",
      " trip_duration         | 246                  \n",
      " is_weekend            | 0                    \n",
      " week_number           | 1                    \n",
      "-RECORD 14------------------------------------\n",
      " vendor                | VeriFone Inc.        \n",
      " tpep_pickup_datetime  | 2019-08-01 02:23:13  \n",
      " tpep_dropoff_datetime | 2019-08-01 02:37:21  \n",
      " passenger_count       | 1.0                  \n",
      " trip_distance         | 3.55                 \n",
      " rate_type             | Standard rate        \n",
      " store_and_fwd_flag    | N                    \n",
      " pu_location           | Manhattan,Clinton... \n",
      " do_location           | Manhattan,East Vi... \n",
      " payment_type          | Credit card          \n",
      " fare_amount           | 13.0                 \n",
      " extra                 | 0.5                  \n",
      " mta_tax               | 0.5                  \n",
      " tip_amount            | 3.36                 \n",
      " tolls_amount          | 0.0                  \n",
      " improvement_surcharge | 0.3                  \n",
      " total_amount          | 20.16                \n",
      " congestion_surcharge  | 2.5                  \n",
      " airport_fee           | 0                    \n",
      " trip_duration         | 848                  \n",
      " is_weekend            | 0                    \n",
      " week_number           | 1                    \n",
      "-RECORD 15------------------------------------\n",
      " vendor                | Creative Mobile T... \n",
      " tpep_pickup_datetime  | 2019-08-01 02:16:59  \n",
      " tpep_dropoff_datetime | 2019-08-01 02:38:23  \n",
      " passenger_count       | 1.0                  \n",
      " trip_distance         | 3.7                  \n",
      " rate_type             | Standard rate        \n",
      " store_and_fwd_flag    | N                    \n",
      " pu_location           | Manhattan,Little ... \n",
      " do_location           | Manhattan,West Ch... \n",
      " payment_type          | Credit card          \n",
      " fare_amount           | 16.5                 \n",
      " extra                 | 3.0                  \n",
      " mta_tax               | 0.5                  \n",
      " tip_amount            | 5.05                 \n",
      " tolls_amount          | 0.0                  \n",
      " improvement_surcharge | 0.3                  \n",
      " total_amount          | 25.35                \n",
      " congestion_surcharge  | 2.5                  \n",
      " airport_fee           | 0                    \n",
      " trip_duration         | 1284                 \n",
      " is_weekend            | 0                    \n",
      " week_number           | 1                    \n",
      "-RECORD 16------------------------------------\n",
      " vendor                | VeriFone Inc.        \n",
      " tpep_pickup_datetime  | 2019-08-01 02:08:35  \n",
      " tpep_dropoff_datetime | 2019-08-01 02:42:16  \n",
      " passenger_count       | 1.0                  \n",
      " trip_distance         | 12.1                 \n",
      " rate_type             | Standard rate        \n",
      " store_and_fwd_flag    | N                    \n",
      " pu_location           | Queens,JFK Airport   \n",
      " do_location           | Brooklyn,Prospect... \n",
      " payment_type          | Credit card          \n",
      " fare_amount           | 38.0                 \n",
      " extra                 | 0.5                  \n",
      " mta_tax               | 0.5                  \n",
      " tip_amount            | 0.0                  \n",
      " tolls_amount          | 0.0                  \n",
      " improvement_surcharge | 0.3                  \n",
      " total_amount          | 39.3                 \n",
      " congestion_surcharge  | 0.0                  \n",
      " airport_fee           | 0                    \n",
      " trip_duration         | 2021                 \n",
      " is_weekend            | 0                    \n",
      " week_number           | 1                    \n",
      "-RECORD 17------------------------------------\n",
      " vendor                | Creative Mobile T... \n",
      " tpep_pickup_datetime  | 2019-08-01 02:23:05  \n",
      " tpep_dropoff_datetime | 2019-08-01 02:42:27  \n",
      " passenger_count       | 1.0                  \n",
      " trip_distance         | 7.0                  \n",
      " rate_type             | Standard rate        \n",
      " store_and_fwd_flag    | N                    \n",
      " pu_location           | Manhattan,Clinton... \n",
      " do_location           | Manhattan,Washing... \n",
      " payment_type          | Cash                 \n",
      " fare_amount           | 23.0                 \n",
      " extra                 | 3.0                  \n",
      " mta_tax               | 0.5                  \n",
      " tip_amount            | 0.0                  \n",
      " tolls_amount          | 0.0                  \n",
      " improvement_surcharge | 0.3                  \n",
      " total_amount          | 26.8                 \n",
      " congestion_surcharge  | 2.5                  \n",
      " airport_fee           | 0                    \n",
      " trip_duration         | 1162                 \n",
      " is_weekend            | 0                    \n",
      " week_number           | 1                    \n",
      "-RECORD 18------------------------------------\n",
      " vendor                | VeriFone Inc.        \n",
      " tpep_pickup_datetime  | 2019-08-01 02:26:00  \n",
      " tpep_dropoff_datetime | 2019-08-01 02:42:36  \n",
      " passenger_count       | 1.0                  \n",
      " trip_distance         | 3.98                 \n",
      " rate_type             | Standard rate        \n",
      " store_and_fwd_flag    | N                    \n",
      " pu_location           | Manhattan,Clinton... \n",
      " do_location           | Manhattan,Yorkvil... \n",
      " payment_type          | Credit card          \n",
      " fare_amount           | 15.0                 \n",
      " extra                 | 0.5                  \n",
      " mta_tax               | 0.5                  \n",
      " tip_amount            | 3.76                 \n",
      " tolls_amount          | 0.0                  \n",
      " improvement_surcharge | 0.3                  \n",
      " total_amount          | 22.56                \n",
      " congestion_surcharge  | 2.5                  \n",
      " airport_fee           | 0                    \n",
      " trip_duration         | 996                  \n",
      " is_weekend            | 0                    \n",
      " week_number           | 1                    \n",
      "-RECORD 19------------------------------------\n",
      " vendor                | Creative Mobile T... \n",
      " tpep_pickup_datetime  | 2019-08-01 02:39:36  \n",
      " tpep_dropoff_datetime | 2019-08-01 02:47:08  \n",
      " passenger_count       | 1.0                  \n",
      " trip_distance         | 2.2                  \n",
      " rate_type             | Standard rate        \n",
      " store_and_fwd_flag    | N                    \n",
      " pu_location           | Manhattan,Lincoln... \n",
      " do_location           | Manhattan,Sutton ... \n",
      " payment_type          | Credit card          \n",
      " fare_amount           | 8.5                  \n",
      " extra                 | 3.0                  \n",
      " mta_tax               | 0.5                  \n",
      " tip_amount            | 2.21                 \n",
      " tolls_amount          | 0.0                  \n",
      " improvement_surcharge | 0.3                  \n",
      " total_amount          | 14.51                \n",
      " congestion_surcharge  | 2.5                  \n",
      " airport_fee           | 0                    \n",
      " trip_duration         | 452                  \n",
      " is_weekend            | 0                    \n",
      " week_number           | 1                    \n",
      "only showing top 20 rows\n",
      "\n"
     ]
    }
   ],
   "source": [
    "df_engineered.show(20,vertical=True)"
   ]
  },
  {
   "cell_type": "markdown",
   "id": "8a927246",
   "metadata": {
    "heading_collapsed": true,
    "hidden": true
   },
   "source": [
    "### Preview the first 20 rows (only select the following features: pickup and droptime, and the 3 features you added). "
   ]
  },
  {
   "cell_type": "code",
   "execution_count": 26,
   "id": "ignored-winning",
   "metadata": {
    "ExecuteTime": {
     "end_time": "2023-12-02T19:05:01.035524Z",
     "start_time": "2023-12-02T19:05:01.031614Z"
    },
    "hidden": true
   },
   "outputs": [],
   "source": [
    "spark.conf.set('spark.sql.legacy.timeParserPolicy', 'LEGACY' )"
   ]
  },
  {
   "cell_type": "code",
   "execution_count": 27,
   "id": "5e9aae0a",
   "metadata": {
    "ExecuteTime": {
     "end_time": "2023-12-02T19:05:05.266210Z",
     "start_time": "2023-12-02T19:05:01.037929Z"
    },
    "hidden": true
   },
   "outputs": [
    {
     "name": "stdout",
     "output_type": "stream",
     "text": [
      "-RECORD 0------------------------------------\n",
      " tpep_pickup_datetime  | 2019-07-31 19:32:07 \n",
      " tpep_dropoff_datetime | 2019-07-31 19:50:01 \n",
      " trip_duration         | 1074                \n",
      " is_weekend            | 0                   \n",
      " week_number           | 5                   \n",
      "-RECORD 1------------------------------------\n",
      " tpep_pickup_datetime  | 2019-08-01 02:00:01 \n",
      " tpep_dropoff_datetime | 2019-08-01 02:00:04 \n",
      " trip_duration         | 3                   \n",
      " is_weekend            | 0                   \n",
      " week_number           | 1                   \n",
      "-RECORD 2------------------------------------\n",
      " tpep_pickup_datetime  | 2019-08-01 02:05:09 \n",
      " tpep_dropoff_datetime | 2019-08-01 02:08:19 \n",
      " trip_duration         | 190                 \n",
      " is_weekend            | 0                   \n",
      " week_number           | 1                   \n",
      "-RECORD 3------------------------------------\n",
      " tpep_pickup_datetime  | 2019-08-01 02:08:09 \n",
      " tpep_dropoff_datetime | 2019-08-01 02:12:03 \n",
      " trip_duration         | 234                 \n",
      " is_weekend            | 0                   \n",
      " week_number           | 1                   \n",
      "-RECORD 4------------------------------------\n",
      " tpep_pickup_datetime  | 2019-08-01 02:08:30 \n",
      " tpep_dropoff_datetime | 2019-08-01 02:12:30 \n",
      " trip_duration         | 240                 \n",
      " is_weekend            | 0                   \n",
      " week_number           | 1                   \n",
      "-RECORD 5------------------------------------\n",
      " tpep_pickup_datetime  | 2019-08-01 02:01:13 \n",
      " tpep_dropoff_datetime | 2019-08-01 02:13:49 \n",
      " trip_duration         | 756                 \n",
      " is_weekend            | 0                   \n",
      " week_number           | 1                   \n",
      "-RECORD 6------------------------------------\n",
      " tpep_pickup_datetime  | 2019-08-01 02:05:43 \n",
      " tpep_dropoff_datetime | 2019-08-01 02:14:14 \n",
      " trip_duration         | 511                 \n",
      " is_weekend            | 0                   \n",
      " week_number           | 1                   \n",
      "-RECORD 7------------------------------------\n",
      " tpep_pickup_datetime  | 2019-08-01 02:10:27 \n",
      " tpep_dropoff_datetime | 2019-08-01 02:14:45 \n",
      " trip_duration         | 258                 \n",
      " is_weekend            | 0                   \n",
      " week_number           | 1                   \n",
      "-RECORD 8------------------------------------\n",
      " tpep_pickup_datetime  | 2019-08-01 02:07:16 \n",
      " tpep_dropoff_datetime | 2019-08-01 02:18:32 \n",
      " trip_duration         | 676                 \n",
      " is_weekend            | 0                   \n",
      " week_number           | 1                   \n",
      "-RECORD 9------------------------------------\n",
      " tpep_pickup_datetime  | 2019-08-01 02:15:10 \n",
      " tpep_dropoff_datetime | 2019-08-01 02:18:51 \n",
      " trip_duration         | 221                 \n",
      " is_weekend            | 0                   \n",
      " week_number           | 1                   \n",
      "-RECORD 10-----------------------------------\n",
      " tpep_pickup_datetime  | 2019-08-01 02:09:27 \n",
      " tpep_dropoff_datetime | 2019-08-01 02:21:50 \n",
      " trip_duration         | 743                 \n",
      " is_weekend            | 0                   \n",
      " week_number           | 1                   \n",
      "-RECORD 11-----------------------------------\n",
      " tpep_pickup_datetime  | 2019-08-01 02:11:19 \n",
      " tpep_dropoff_datetime | 2019-08-01 02:25:46 \n",
      " trip_duration         | 867                 \n",
      " is_weekend            | 0                   \n",
      " week_number           | 1                   \n",
      "-RECORD 12-----------------------------------\n",
      " tpep_pickup_datetime  | 2019-08-01 02:29:53 \n",
      " tpep_dropoff_datetime | 2019-08-01 02:33:23 \n",
      " trip_duration         | 210                 \n",
      " is_weekend            | 0                   \n",
      " week_number           | 1                   \n",
      "-RECORD 13-----------------------------------\n",
      " tpep_pickup_datetime  | 2019-08-01 02:31:25 \n",
      " tpep_dropoff_datetime | 2019-08-01 02:35:31 \n",
      " trip_duration         | 246                 \n",
      " is_weekend            | 0                   \n",
      " week_number           | 1                   \n",
      "-RECORD 14-----------------------------------\n",
      " tpep_pickup_datetime  | 2019-08-01 02:23:13 \n",
      " tpep_dropoff_datetime | 2019-08-01 02:37:21 \n",
      " trip_duration         | 848                 \n",
      " is_weekend            | 0                   \n",
      " week_number           | 1                   \n",
      "-RECORD 15-----------------------------------\n",
      " tpep_pickup_datetime  | 2019-08-01 02:16:59 \n",
      " tpep_dropoff_datetime | 2019-08-01 02:38:23 \n",
      " trip_duration         | 1284                \n",
      " is_weekend            | 0                   \n",
      " week_number           | 1                   \n",
      "-RECORD 16-----------------------------------\n",
      " tpep_pickup_datetime  | 2019-08-01 02:08:35 \n",
      " tpep_dropoff_datetime | 2019-08-01 02:42:16 \n",
      " trip_duration         | 2021                \n",
      " is_weekend            | 0                   \n",
      " week_number           | 1                   \n",
      "-RECORD 17-----------------------------------\n",
      " tpep_pickup_datetime  | 2019-08-01 02:23:05 \n",
      " tpep_dropoff_datetime | 2019-08-01 02:42:27 \n",
      " trip_duration         | 1162                \n",
      " is_weekend            | 0                   \n",
      " week_number           | 1                   \n",
      "-RECORD 18-----------------------------------\n",
      " tpep_pickup_datetime  | 2019-08-01 02:26:00 \n",
      " tpep_dropoff_datetime | 2019-08-01 02:42:36 \n",
      " trip_duration         | 996                 \n",
      " is_weekend            | 0                   \n",
      " week_number           | 1                   \n",
      "-RECORD 19-----------------------------------\n",
      " tpep_pickup_datetime  | 2019-08-01 02:39:36 \n",
      " tpep_dropoff_datetime | 2019-08-01 02:47:08 \n",
      " trip_duration         | 452                 \n",
      " is_weekend            | 0                   \n",
      " week_number           | 1                   \n",
      "only showing top 20 rows\n",
      "\n"
     ]
    }
   ],
   "source": [
    "df_engineered.select([\"tpep_pickup_datetime\", \"tpep_dropoff_datetime\", \"trip_duration\", \"is_weekend\", \"week_number\"])\\\n",
    ".show(20,vertical=True)"
   ]
  },
  {
   "cell_type": "markdown",
   "id": "a5580ea4",
   "metadata": {
    "heading_collapsed": true
   },
   "source": [
    "## Analyses - Answer the following 5 questions (by showing the output and and a short 1-2 sentences regarding your observation/answer) \n",
    "\n",
    "MUST Use the PySpark SQL API.\n",
    "\n",
    "DO NOT explicitly write SQL queries. Doing so will result in 50% deduction (for the question). Check lab 7.\n",
    "\n",
    "You are free to add columns if it will help in answering a question and add useful info to the dataset."
   ]
  },
  {
   "cell_type": "markdown",
   "id": "9f1696d6",
   "metadata": {
    "heading_collapsed": true,
    "hidden": true
   },
   "source": [
    "### 1- What is the average fare amount per payment type "
   ]
  },
  {
   "cell_type": "code",
   "execution_count": 28,
   "id": "97654b5c",
   "metadata": {
    "ExecuteTime": {
     "end_time": "2023-12-02T19:05:05.293879Z",
     "start_time": "2023-12-02T19:05:05.267765Z"
    },
    "hidden": true
   },
   "outputs": [],
   "source": [
    "avg_fare_per_payment = df_engineered.select(\"fare_amount\",\"payment_type\").groupBy(\"payment_type\").avg()"
   ]
  },
  {
   "cell_type": "code",
   "execution_count": 29,
   "id": "0175e1aa",
   "metadata": {
    "ExecuteTime": {
     "end_time": "2023-12-02T19:05:10.910367Z",
     "start_time": "2023-12-02T19:05:05.295487Z"
    },
    "hidden": true
   },
   "outputs": [
    {
     "name": "stdout",
     "output_type": "stream",
     "text": [
      "+------------+------------------+\n",
      "|payment_type|  avg(fare_amount)|\n",
      "+------------+------------------+\n",
      "|     Unknown|15.165384089237683|\n",
      "|        Cash|13.150370747938217|\n",
      "|     Dispute| 2.211285923039453|\n",
      "|   No charge|22.161083981237574|\n",
      "| Credit card|13.747046488650074|\n",
      "+------------+------------------+\n",
      "\n"
     ]
    }
   ],
   "source": [
    "avg_fare_per_payment.show()"
   ]
  },
  {
   "cell_type": "markdown",
   "id": "281874a7",
   "metadata": {
    "heading_collapsed": true,
    "hidden": true
   },
   "source": [
    "### 2- Do people tend to go on a longer trips during the weekend or weekdays?"
   ]
  },
  {
   "cell_type": "code",
   "execution_count": 30,
   "id": "cc06dacb",
   "metadata": {
    "ExecuteTime": {
     "end_time": "2023-12-02T19:05:10.941042Z",
     "start_time": "2023-12-02T19:05:10.911940Z"
    },
    "hidden": true
   },
   "outputs": [],
   "source": [
    "avg_trip_duration = df_engineered.select([\"trip_duration\",\"is_weekend\"]).groupBy(\"is_weekend\").avg(\"trip_duration\")"
   ]
  },
  {
   "cell_type": "code",
   "execution_count": 31,
   "id": "6c06966f",
   "metadata": {
    "ExecuteTime": {
     "end_time": "2023-12-02T19:05:15.780030Z",
     "start_time": "2023-12-02T19:05:10.942509Z"
    },
    "hidden": true
   },
   "outputs": [
    {
     "name": "stdout",
     "output_type": "stream",
     "text": [
      "+----------+------------------+\n",
      "|is_weekend|avg(trip_duration)|\n",
      "+----------+------------------+\n",
      "|         1| 1059.941610491406|\n",
      "|         0|1087.2400725817163|\n",
      "+----------+------------------+\n",
      "\n"
     ]
    }
   ],
   "source": [
    "avg_trip_duration.show()"
   ]
  },
  {
   "cell_type": "markdown",
   "id": "ee349df0",
   "metadata": {
    "heading_collapsed": true,
    "hidden": true
   },
   "source": [
    "### 3 - which day recorded the most trips?"
   ]
  },
  {
   "cell_type": "code",
   "execution_count": 32,
   "id": "liquid-sound",
   "metadata": {
    "ExecuteTime": {
     "end_time": "2023-12-02T19:05:15.795331Z",
     "start_time": "2023-12-02T19:05:15.781616Z"
    },
    "hidden": true
   },
   "outputs": [],
   "source": [
    "df_engineered_with_day = df_engineered.withColumn(\"dom\", fn.to_date(df_engineered.tpep_pickup_datetime, \"d\"))"
   ]
  },
  {
   "cell_type": "code",
   "execution_count": 33,
   "id": "orange-buying",
   "metadata": {
    "ExecuteTime": {
     "end_time": "2023-12-02T19:05:20.392774Z",
     "start_time": "2023-12-02T19:05:15.796934Z"
    },
    "hidden": true
   },
   "outputs": [
    {
     "data": {
      "text/plain": [
       "datetime.date(2019, 8, 8)"
      ]
     },
     "execution_count": 33,
     "metadata": {},
     "output_type": "execute_result"
    }
   ],
   "source": [
    "df_engineered_with_day.select(\"tpep_pickup_datetime\",\"dom\").groupBy(\"dom\").count().orderBy(\"count\", ascending=False).first()[0]"
   ]
  },
  {
   "cell_type": "markdown",
   "id": "f8dc3e82",
   "metadata": {
    "heading_collapsed": true,
    "hidden": true
   },
   "source": [
    "### 4- What is the average \"total amount\" of trips with more than 2 passengers?"
   ]
  },
  {
   "cell_type": "code",
   "execution_count": 34,
   "id": "4ceebb49",
   "metadata": {
    "ExecuteTime": {
     "end_time": "2023-12-02T19:05:25.693738Z",
     "start_time": "2023-12-02T19:05:20.394121Z"
    },
    "hidden": true
   },
   "outputs": [
    {
     "name": "stdout",
     "output_type": "stream",
     "text": [
      "+------------------+\n",
      "| avg(total_amount)|\n",
      "+------------------+\n",
      "|20.057509194414752|\n",
      "+------------------+\n",
      "\n"
     ]
    }
   ],
   "source": [
    "df_engineered.select(\"total_amount\",\"passenger_count\").filter(df_engineered.passenger_count>2).select(fn.avg(\"total_amount\")).show()"
   ]
  },
  {
   "cell_type": "markdown",
   "id": "d090c1af",
   "metadata": {
    "heading_collapsed": true,
    "hidden": true
   },
   "source": [
    "### 5- On average, when is it more likely that the tip is higher, when there are multiple passengers or just 1.?"
   ]
  },
  {
   "cell_type": "code",
   "execution_count": 35,
   "id": "56ea2ad5",
   "metadata": {
    "ExecuteTime": {
     "end_time": "2023-12-02T19:05:25.726813Z",
     "start_time": "2023-12-02T19:05:25.695503Z"
    },
    "hidden": true
   },
   "outputs": [],
   "source": [
    "avg_tip_1 = df_engineered.select([\"passenger_count\",\"tip_amount\"]).filter(df_engineered.passenger_count==1).select(fn.avg(\"tip_amount\"))"
   ]
  },
  {
   "cell_type": "code",
   "execution_count": 36,
   "id": "c6034abd",
   "metadata": {
    "ExecuteTime": {
     "end_time": "2023-12-02T19:05:25.752625Z",
     "start_time": "2023-12-02T19:05:25.728334Z"
    },
    "hidden": true
   },
   "outputs": [],
   "source": [
    "avg_tip_2 = df_engineered.select([\"passenger_count\",\"tip_amount\"]).filter(df_engineered.passenger_count>1).select(fn.avg(\"tip_amount\"))"
   ]
  },
  {
   "cell_type": "code",
   "execution_count": 37,
   "id": "bright-greece",
   "metadata": {
    "ExecuteTime": {
     "end_time": "2023-12-02T19:05:35.110292Z",
     "start_time": "2023-12-02T19:05:25.754026Z"
    },
    "hidden": true
   },
   "outputs": [
    {
     "name": "stdout",
     "output_type": "stream",
     "text": [
      "+------------------+\n",
      "|   avg(tip_amount)|\n",
      "+------------------+\n",
      "|2.1884534254318124|\n",
      "+------------------+\n",
      "\n",
      "+------------------+\n",
      "|   avg(tip_amount)|\n",
      "+------------------+\n",
      "|2.1767675083289855|\n",
      "+------------------+\n",
      "\n"
     ]
    },
    {
     "data": {
      "text/plain": [
       "(None, None)"
      ]
     },
     "execution_count": 37,
     "metadata": {},
     "output_type": "execute_result"
    }
   ],
   "source": [
    "avg_tip_1.show() ,avg_tip_2.show()"
   ]
  },
  {
   "cell_type": "markdown",
   "id": "ee83fe0b",
   "metadata": {
    "heading_collapsed": true,
    "hidden": true
   },
   "source": [
    "### 6- What is the most frequent route on the weekend. "
   ]
  },
  {
   "cell_type": "code",
   "execution_count": 38,
   "id": "448ae113",
   "metadata": {
    "ExecuteTime": {
     "end_time": "2023-12-02T19:05:35.151584Z",
     "start_time": "2023-12-02T19:05:35.112185Z"
    },
    "hidden": true
   },
   "outputs": [],
   "source": [
    "most_frequent =  df_engineered.select([\"pu_location\", \"do_location\", \"is_weekend\"]).filter(df_engineered.is_weekend==1).groupBy([\"pu_location\", \"do_location\"]).count().orderBy(\"count\", ascending=False)"
   ]
  },
  {
   "cell_type": "code",
   "execution_count": 39,
   "id": "211d3ba3",
   "metadata": {
    "ExecuteTime": {
     "end_time": "2023-12-02T19:05:39.210002Z",
     "start_time": "2023-12-02T19:05:35.153527Z"
    },
    "hidden": true
   },
   "outputs": [
    {
     "name": "stdout",
     "output_type": "stream",
     "text": [
      "+--------------------+--------------------+-----+\n",
      "|         pu_location|         do_location|count|\n",
      "+--------------------+--------------------+-----+\n",
      "|          Unknown,NV|          Unknown,NV| 9862|\n",
      "|Manhattan,Upper E...|Manhattan,Upper E...| 4232|\n",
      "+--------------------+--------------------+-----+\n",
      "only showing top 2 rows\n",
      "\n"
     ]
    }
   ],
   "source": [
    "most_frequent.show(2)"
   ]
  },
  {
   "cell_type": "markdown",
   "id": "dfd702ec",
   "metadata": {
    "heading_collapsed": true
   },
   "source": [
    "## Encoding\n",
    "- Label encode all categorical fetaures.\n",
    "- Create a lookup table for these label encoded features. You can use the same format/example as the lookup table in Milestone 1 description.\n",
    "\n",
    "(You are allowed to store and manipulate the lookup table as a pandas dataframe, it does not have to be a PySpark df).\n",
    "- Remove the original unencoded categorical features from the df after encoding."
   ]
  },
  {
   "cell_type": "markdown",
   "id": "given-carol",
   "metadata": {
    "heading_collapsed": true,
    "hidden": true
   },
   "source": [
    "### Label encoding "
   ]
  },
  {
   "cell_type": "code",
   "execution_count": 40,
   "id": "cc07c545",
   "metadata": {
    "ExecuteTime": {
     "end_time": "2023-12-02T19:05:39.226736Z",
     "start_time": "2023-12-02T19:05:39.211394Z"
    },
    "hidden": true
   },
   "outputs": [],
   "source": [
    "lookup = pd.DataFrame(columns=[\"column_name\",\"original_value\",\"encoded_value\"])"
   ]
  },
  {
   "cell_type": "code",
   "execution_count": 41,
   "id": "0177519e",
   "metadata": {
    "ExecuteTime": {
     "end_time": "2023-12-02T19:07:00.231894Z",
     "start_time": "2023-12-02T19:05:39.228107Z"
    },
    "hidden": true
   },
   "outputs": [],
   "source": [
    "df_encoded = df_engineered\n",
    "categoricalFeatures = [\"vendor\",\"rate_type\",\"store_and_fwd_flag\",\"payment_type\",\"pu_location\",\"do_location\"]\n",
    "indexers = [StringIndexer(inputCol=col, outputCol=col+\"_enc\") for col in categoricalFeatures]\n",
    "for i in indexers:\n",
    "    transformer = i.fit(df_encoded)\n",
    "    df_encoded = transformer.transform(df_encoded)\n",
    "    df_encoded = df_encoded.drop(transformer.getInputCol())\n",
    "    for idx in range(len(transformer.labels)):\n",
    "        entry = {\"column_name\":transformer.getInputCol(), \"original_value\":transformer.labels[idx], \"encoded_value\":idx}\n",
    "        lookup.loc[len(lookup)] = entry"
   ]
  },
  {
   "cell_type": "markdown",
   "id": "7a810bca",
   "metadata": {
    "heading_collapsed": true,
    "hidden": true
   },
   "source": [
    "### Preview first 20 rows of the label encoded features"
   ]
  },
  {
   "cell_type": "code",
   "execution_count": 42,
   "id": "640874a3",
   "metadata": {
    "ExecuteTime": {
     "end_time": "2023-12-02T19:07:17.288881Z",
     "start_time": "2023-12-02T19:07:00.234688Z"
    },
    "hidden": true
   },
   "outputs": [
    {
     "name": "stdout",
     "output_type": "stream",
     "text": [
      "-RECORD 0-------------------------------------\n",
      " tpep_pickup_datetime   | 2019-07-31 19:32:07 \n",
      " tpep_dropoff_datetime  | 2019-07-31 19:50:01 \n",
      " passenger_count        | 1.0                 \n",
      " trip_distance          | 12.43               \n",
      " fare_amount            | 34.0                \n",
      " extra                  | 0.5                 \n",
      " mta_tax                | 0.5                 \n",
      " tip_amount             | 0.0                 \n",
      " tolls_amount           | 6.12                \n",
      " improvement_surcharge  | 0.3                 \n",
      " total_amount           | 41.42               \n",
      " congestion_surcharge   | 0.0                 \n",
      " airport_fee            | 0                   \n",
      " trip_duration          | 1074                \n",
      " is_weekend             | 0                   \n",
      " week_number            | 5                   \n",
      " vendor_enc             | 0.0                 \n",
      " rate_type_enc          | 0.0                 \n",
      " store_and_fwd_flag_enc | 0.0                 \n",
      " payment_type_enc       | 1.0                 \n",
      " pu_location_enc        | 10.0                \n",
      " do_location_enc        | 206.0               \n",
      "-RECORD 1-------------------------------------\n",
      " tpep_pickup_datetime   | 2019-08-01 02:00:01 \n",
      " tpep_dropoff_datetime  | 2019-08-01 02:00:04 \n",
      " passenger_count        | 1.0                 \n",
      " trip_distance          | 0.0                 \n",
      " fare_amount            | 2.5                 \n",
      " extra                  | 3.0                 \n",
      " mta_tax                | 0.5                 \n",
      " tip_amount             | 0.0                 \n",
      " tolls_amount           | 0.0                 \n",
      " improvement_surcharge  | 0.3                 \n",
      " total_amount           | 6.3                 \n",
      " congestion_surcharge   | 2.5                 \n",
      " airport_fee            | 0                   \n",
      " trip_duration          | 3                   \n",
      " is_weekend             | 0                   \n",
      " week_number            | 1                   \n",
      " vendor_enc             | 1.0                 \n",
      " rate_type_enc          | 0.0                 \n",
      " store_and_fwd_flag_enc | 0.0                 \n",
      " payment_type_enc       | 3.0                 \n",
      " pu_location_enc        | 13.0                \n",
      " do_location_enc        | 13.0                \n",
      "-RECORD 2-------------------------------------\n",
      " tpep_pickup_datetime   | 2019-08-01 02:05:09 \n",
      " tpep_dropoff_datetime  | 2019-08-01 02:08:19 \n",
      " passenger_count        | 1.0                 \n",
      " trip_distance          | 0.7                 \n",
      " fare_amount            | 4.5                 \n",
      " extra                  | 0.5                 \n",
      " mta_tax                | 0.5                 \n",
      " tip_amount             | 0.0                 \n",
      " tolls_amount           | 0.0                 \n",
      " improvement_surcharge  | 0.3                 \n",
      " total_amount           | 5.8                 \n",
      " congestion_surcharge   | 0.0                 \n",
      " airport_fee            | 0                   \n",
      " trip_duration          | 190                 \n",
      " is_weekend             | 0                   \n",
      " week_number            | 1                   \n",
      " vendor_enc             | 0.0                 \n",
      " rate_type_enc          | 0.0                 \n",
      " store_and_fwd_flag_enc | 0.0                 \n",
      " payment_type_enc       | 1.0                 \n",
      " pu_location_enc        | 63.0                \n",
      " do_location_enc        | 62.0                \n",
      "-RECORD 3-------------------------------------\n",
      " tpep_pickup_datetime   | 2019-08-01 02:08:09 \n",
      " tpep_dropoff_datetime  | 2019-08-01 02:12:03 \n",
      " passenger_count        | 1.0                 \n",
      " trip_distance          | 1.07                \n",
      " fare_amount            | 5.5                 \n",
      " extra                  | 0.5                 \n",
      " mta_tax                | 0.5                 \n",
      " tip_amount             | 0.0                 \n",
      " tolls_amount           | 0.0                 \n",
      " improvement_surcharge  | 0.3                 \n",
      " total_amount           | 9.3                 \n",
      " congestion_surcharge   | 2.5                 \n",
      " airport_fee            | 0                   \n",
      " trip_duration          | 234                 \n",
      " is_weekend             | 0                   \n",
      " week_number            | 1                   \n",
      " vendor_enc             | 0.0                 \n",
      " rate_type_enc          | 0.0                 \n",
      " store_and_fwd_flag_enc | 0.0                 \n",
      " payment_type_enc       | 1.0                 \n",
      " pu_location_enc        | 7.0                 \n",
      " do_location_enc        | 11.0                \n",
      "-RECORD 4-------------------------------------\n",
      " tpep_pickup_datetime   | 2019-08-01 02:08:30 \n",
      " tpep_dropoff_datetime  | 2019-08-01 02:12:30 \n",
      " passenger_count        | 1.0                 \n",
      " trip_distance          | 0.8                 \n",
      " fare_amount            | 5.0                 \n",
      " extra                  | 3.0                 \n",
      " mta_tax                | 0.5                 \n",
      " tip_amount             | 2.6                 \n",
      " tolls_amount           | 0.0                 \n",
      " improvement_surcharge  | 0.3                 \n",
      " total_amount           | 11.4                \n",
      " congestion_surcharge   | 2.5                 \n",
      " airport_fee            | 0                   \n",
      " trip_duration          | 240                 \n",
      " is_weekend             | 0                   \n",
      " week_number            | 1                   \n",
      " vendor_enc             | 1.0                 \n",
      " rate_type_enc          | 0.0                 \n",
      " store_and_fwd_flag_enc | 0.0                 \n",
      " payment_type_enc       | 0.0                 \n",
      " pu_location_enc        | 25.0                \n",
      " do_location_enc        | 4.0                 \n",
      "-RECORD 5-------------------------------------\n",
      " tpep_pickup_datetime   | 2019-08-01 02:01:13 \n",
      " tpep_dropoff_datetime  | 2019-08-01 02:13:49 \n",
      " passenger_count        | 1.0                 \n",
      " trip_distance          | 3.28                \n",
      " fare_amount            | 12.5                \n",
      " extra                  | 0.5                 \n",
      " mta_tax                | 0.5                 \n",
      " tip_amount             | 2.0                 \n",
      " tolls_amount           | 0.0                 \n",
      " improvement_surcharge  | 0.3                 \n",
      " total_amount           | 18.3                \n",
      " congestion_surcharge   | 2.5                 \n",
      " airport_fee            | 0                   \n",
      " trip_duration          | 756                 \n",
      " is_weekend             | 0                   \n",
      " week_number            | 1                   \n",
      " vendor_enc             | 0.0                 \n",
      " rate_type_enc          | 0.0                 \n",
      " store_and_fwd_flag_enc | 0.0                 \n",
      " payment_type_enc       | 0.0                 \n",
      " pu_location_enc        | 31.0                \n",
      " do_location_enc        | 19.0                \n",
      "-RECORD 6-------------------------------------\n",
      " tpep_pickup_datetime   | 2019-08-01 02:05:43 \n",
      " tpep_dropoff_datetime  | 2019-08-01 02:14:14 \n",
      " passenger_count        | 1.0                 \n",
      " trip_distance          | 1.9                 \n",
      " fare_amount            | 8.5                 \n",
      " extra                  | 3.0                 \n",
      " mta_tax                | 0.5                 \n",
      " tip_amount             | 1.7                 \n",
      " tolls_amount           | 0.0                 \n",
      " improvement_surcharge  | 0.3                 \n",
      " total_amount           | 14.0                \n",
      " congestion_surcharge   | 2.5                 \n",
      " airport_fee            | 0                   \n",
      " trip_duration          | 511                 \n",
      " is_weekend             | 0                   \n",
      " week_number            | 1                   \n",
      " vendor_enc             | 1.0                 \n",
      " rate_type_enc          | 0.0                 \n",
      " store_and_fwd_flag_enc | 0.0                 \n",
      " payment_type_enc       | 0.0                 \n",
      " pu_location_enc        | 27.0                \n",
      " do_location_enc        | 11.0                \n",
      "-RECORD 7-------------------------------------\n",
      " tpep_pickup_datetime   | 2019-08-01 02:10:27 \n",
      " tpep_dropoff_datetime  | 2019-08-01 02:14:45 \n",
      " passenger_count        | 1.0                 \n",
      " trip_distance          | 1.62                \n",
      " fare_amount            | 6.5                 \n",
      " extra                  | 0.5                 \n",
      " mta_tax                | 0.5                 \n",
      " tip_amount             | 0.0                 \n",
      " tolls_amount           | 0.0                 \n",
      " improvement_surcharge  | 0.3                 \n",
      " total_amount           | 10.3                \n",
      " congestion_surcharge   | 2.5                 \n",
      " airport_fee            | 0                   \n",
      " trip_duration          | 258                 \n",
      " is_weekend             | 0                   \n",
      " week_number            | 1                   \n",
      " vendor_enc             | 0.0                 \n",
      " rate_type_enc          | 0.0                 \n",
      " store_and_fwd_flag_enc | 0.0                 \n",
      " payment_type_enc       | 1.0                 \n",
      " pu_location_enc        | 22.0                \n",
      " do_location_enc        | 30.0                \n",
      "-RECORD 8-------------------------------------\n",
      " tpep_pickup_datetime   | 2019-08-01 02:07:16 \n",
      " tpep_dropoff_datetime  | 2019-08-01 02:18:32 \n",
      " passenger_count        | 4.0                 \n",
      " trip_distance          | 2.05                \n",
      " fare_amount            | 9.5                 \n",
      " extra                  | 0.5                 \n",
      " mta_tax                | 0.5                 \n",
      " tip_amount             | 2.66                \n",
      " tolls_amount           | 0.0                 \n",
      " improvement_surcharge  | 0.3                 \n",
      " total_amount           | 15.96               \n",
      " congestion_surcharge   | 2.5                 \n",
      " airport_fee            | 0                   \n",
      " trip_duration          | 676                 \n",
      " is_weekend             | 0                   \n",
      " week_number            | 1                   \n",
      " vendor_enc             | 0.0                 \n",
      " rate_type_enc          | 0.0                 \n",
      " store_and_fwd_flag_enc | 0.0                 \n",
      " payment_type_enc       | 0.0                 \n",
      " pu_location_enc        | 0.0                 \n",
      " do_location_enc        | 7.0                 \n",
      "-RECORD 9-------------------------------------\n",
      " tpep_pickup_datetime   | 2019-08-01 02:15:10 \n",
      " tpep_dropoff_datetime  | 2019-08-01 02:18:51 \n",
      " passenger_count        | 1.0                 \n",
      " trip_distance          | 1.3                 \n",
      " fare_amount            | 5.5                 \n",
      " extra                  | 3.0                 \n",
      " mta_tax                | 0.5                 \n",
      " tip_amount             | 2.3                 \n",
      " tolls_amount           | 0.0                 \n",
      " improvement_surcharge  | 0.3                 \n",
      " total_amount           | 11.6                \n",
      " congestion_surcharge   | 2.5                 \n",
      " airport_fee            | 0                   \n",
      " trip_duration          | 221                 \n",
      " is_weekend             | 0                   \n",
      " week_number            | 1                   \n",
      " vendor_enc             | 1.0                 \n",
      " rate_type_enc          | 0.0                 \n",
      " store_and_fwd_flag_enc | 0.0                 \n",
      " payment_type_enc       | 0.0                 \n",
      " pu_location_enc        | 16.0                \n",
      " do_location_enc        | 9.0                 \n",
      "-RECORD 10------------------------------------\n",
      " tpep_pickup_datetime   | 2019-08-01 02:09:27 \n",
      " tpep_dropoff_datetime  | 2019-08-01 02:21:50 \n",
      " passenger_count        | 2.0                 \n",
      " trip_distance          | 1.3                 \n",
      " fare_amount            | 9.5                 \n",
      " extra                  | 3.0                 \n",
      " mta_tax                | 0.5                 \n",
      " tip_amount             | 2.65                \n",
      " tolls_amount           | 0.0                 \n",
      " improvement_surcharge  | 0.3                 \n",
      " total_amount           | 15.95               \n",
      " congestion_surcharge   | 2.5                 \n",
      " airport_fee            | 0                   \n",
      " trip_duration          | 743                 \n",
      " is_weekend             | 0                   \n",
      " week_number            | 1                   \n",
      " vendor_enc             | 1.0                 \n",
      " rate_type_enc          | 0.0                 \n",
      " store_and_fwd_flag_enc | 0.0                 \n",
      " payment_type_enc       | 0.0                 \n",
      " pu_location_enc        | 12.0                \n",
      " do_location_enc        | 6.0                 \n",
      "-RECORD 11------------------------------------\n",
      " tpep_pickup_datetime   | 2019-08-01 02:11:19 \n",
      " tpep_dropoff_datetime  | 2019-08-01 02:25:46 \n",
      " passenger_count        | 1.0                 \n",
      " trip_distance          | 2.53                \n",
      " fare_amount            | 11.5                \n",
      " extra                  | 0.5                 \n",
      " mta_tax                | 0.5                 \n",
      " tip_amount             | 2.56                \n",
      " tolls_amount           | 0.0                 \n",
      " improvement_surcharge  | 0.3                 \n",
      " total_amount           | 15.36               \n",
      " congestion_surcharge   | 0.0                 \n",
      " airport_fee            | 0                   \n",
      " trip_duration          | 867                 \n",
      " is_weekend             | 0                   \n",
      " week_number            | 1                   \n",
      " vendor_enc             | 0.0                 \n",
      " rate_type_enc          | 0.0                 \n",
      " store_and_fwd_flag_enc | 0.0                 \n",
      " payment_type_enc       | 0.0                 \n",
      " pu_location_enc        | 47.0                \n",
      " do_location_enc        | 56.0                \n",
      "-RECORD 12------------------------------------\n",
      " tpep_pickup_datetime   | 2019-08-01 02:29:53 \n",
      " tpep_dropoff_datetime  | 2019-08-01 02:33:23 \n",
      " passenger_count        | 1.0                 \n",
      " trip_distance          | 0.65                \n",
      " fare_amount            | 5.0                 \n",
      " extra                  | 0.5                 \n",
      " mta_tax                | 0.5                 \n",
      " tip_amount             | 0.0                 \n",
      " tolls_amount           | 0.0                 \n",
      " improvement_surcharge  | 0.3                 \n",
      " total_amount           | 6.3                 \n",
      " congestion_surcharge   | 0.0                 \n",
      " airport_fee            | 0                   \n",
      " trip_duration          | 210                 \n",
      " is_weekend             | 0                   \n",
      " week_number            | 1                   \n",
      " vendor_enc             | 0.0                 \n",
      " rate_type_enc          | 0.0                 \n",
      " store_and_fwd_flag_enc | 0.0                 \n",
      " payment_type_enc       | 1.0                 \n",
      " pu_location_enc        | 24.0                \n",
      " do_location_enc        | 58.0                \n",
      "-RECORD 13------------------------------------\n",
      " tpep_pickup_datetime   | 2019-08-01 02:31:25 \n",
      " tpep_dropoff_datetime  | 2019-08-01 02:35:31 \n",
      " passenger_count        | 2.0                 \n",
      " trip_distance          | 0.94                \n",
      " fare_amount            | 5.5                 \n",
      " extra                  | 0.5                 \n",
      " mta_tax                | 0.5                 \n",
      " tip_amount             | 0.0                 \n",
      " tolls_amount           | 0.0                 \n",
      " improvement_surcharge  | 0.3                 \n",
      " total_amount           | 9.3                 \n",
      " congestion_surcharge   | 2.5                 \n",
      " airport_fee            | 0                   \n",
      " trip_duration          | 246                 \n",
      " is_weekend             | 0                   \n",
      " week_number            | 1                   \n",
      " vendor_enc             | 0.0                 \n",
      " rate_type_enc          | 0.0                 \n",
      " store_and_fwd_flag_enc | 0.0                 \n",
      " payment_type_enc       | 1.0                 \n",
      " pu_location_enc        | 18.0                \n",
      " do_location_enc        | 3.0                 \n",
      "-RECORD 14------------------------------------\n",
      " tpep_pickup_datetime   | 2019-08-01 02:23:13 \n",
      " tpep_dropoff_datetime  | 2019-08-01 02:37:21 \n",
      " passenger_count        | 1.0                 \n",
      " trip_distance          | 3.55                \n",
      " fare_amount            | 13.0                \n",
      " extra                  | 0.5                 \n",
      " mta_tax                | 0.5                 \n",
      " tip_amount             | 3.36                \n",
      " tolls_amount           | 0.0                 \n",
      " improvement_surcharge  | 0.3                 \n",
      " total_amount           | 20.16               \n",
      " congestion_surcharge   | 2.5                 \n",
      " airport_fee            | 0                   \n",
      " trip_duration          | 848                 \n",
      " is_weekend             | 0                   \n",
      " week_number            | 1                   \n",
      " vendor_enc             | 0.0                 \n",
      " rate_type_enc          | 0.0                 \n",
      " store_and_fwd_flag_enc | 0.0                 \n",
      " payment_type_enc       | 0.0                 \n",
      " pu_location_enc        | 7.0                 \n",
      " do_location_enc        | 15.0                \n",
      "-RECORD 15------------------------------------\n",
      " tpep_pickup_datetime   | 2019-08-01 02:16:59 \n",
      " tpep_dropoff_datetime  | 2019-08-01 02:38:23 \n",
      " passenger_count        | 1.0                 \n",
      " trip_distance          | 3.7                 \n",
      " fare_amount            | 16.5                \n",
      " extra                  | 3.0                 \n",
      " mta_tax                | 0.5                 \n",
      " tip_amount             | 5.05                \n",
      " tolls_amount           | 0.0                 \n",
      " improvement_surcharge  | 0.3                 \n",
      " total_amount           | 25.35               \n",
      " congestion_surcharge   | 2.5                 \n",
      " airport_fee            | 0                   \n",
      " trip_duration          | 1284                \n",
      " is_weekend             | 0                   \n",
      " week_number            | 1                   \n",
      " vendor_enc             | 1.0                 \n",
      " rate_type_enc          | 0.0                 \n",
      " store_and_fwd_flag_enc | 0.0                 \n",
      " payment_type_enc       | 0.0                 \n",
      " pu_location_enc        | 37.0                \n",
      " do_location_enc        | 16.0                \n",
      "-RECORD 16------------------------------------\n",
      " tpep_pickup_datetime   | 2019-08-01 02:08:35 \n",
      " tpep_dropoff_datetime  | 2019-08-01 02:42:16 \n",
      " passenger_count        | 1.0                 \n",
      " trip_distance          | 12.1                \n",
      " fare_amount            | 38.0                \n",
      " extra                  | 0.5                 \n",
      " mta_tax                | 0.5                 \n",
      " tip_amount             | 0.0                 \n",
      " tolls_amount           | 0.0                 \n",
      " improvement_surcharge  | 0.3                 \n",
      " total_amount           | 39.3                \n",
      " congestion_surcharge   | 0.0                 \n",
      " airport_fee            | 0                   \n",
      " trip_duration          | 2021                \n",
      " is_weekend             | 0                   \n",
      " week_number            | 1                   \n",
      " vendor_enc             | 0.0                 \n",
      " rate_type_enc          | 0.0                 \n",
      " store_and_fwd_flag_enc | 0.0                 \n",
      " payment_type_enc       | 0.0                 \n",
      " pu_location_enc        | 2.0                 \n",
      " do_location_enc        | 98.0                \n",
      "-RECORD 17------------------------------------\n",
      " tpep_pickup_datetime   | 2019-08-01 02:23:05 \n",
      " tpep_dropoff_datetime  | 2019-08-01 02:42:27 \n",
      " passenger_count        | 1.0                 \n",
      " trip_distance          | 7.0                 \n",
      " fare_amount            | 23.0                \n",
      " extra                  | 3.0                 \n",
      " mta_tax                | 0.5                 \n",
      " tip_amount             | 0.0                 \n",
      " tolls_amount           | 0.0                 \n",
      " improvement_surcharge  | 0.3                 \n",
      " total_amount           | 26.8                \n",
      " congestion_surcharge   | 2.5                 \n",
      " airport_fee            | 0                   \n",
      " trip_duration          | 1162                \n",
      " is_weekend             | 0                   \n",
      " week_number            | 1                   \n",
      " vendor_enc             | 1.0                 \n",
      " rate_type_enc          | 0.0                 \n",
      " store_and_fwd_flag_enc | 0.0                 \n",
      " payment_type_enc       | 1.0                 \n",
      " pu_location_enc        | 7.0                 \n",
      " do_location_enc        | 56.0                \n",
      "-RECORD 18------------------------------------\n",
      " tpep_pickup_datetime   | 2019-08-01 02:26:00 \n",
      " tpep_dropoff_datetime  | 2019-08-01 02:42:36 \n",
      " passenger_count        | 1.0                 \n",
      " trip_distance          | 3.98                \n",
      " fare_amount            | 15.0                \n",
      " extra                  | 0.5                 \n",
      " mta_tax                | 0.5                 \n",
      " tip_amount             | 3.76                \n",
      " tolls_amount           | 0.0                 \n",
      " improvement_surcharge  | 0.3                 \n",
      " total_amount           | 22.56               \n",
      " congestion_surcharge   | 2.5                 \n",
      " airport_fee            | 0                   \n",
      " trip_duration          | 996                 \n",
      " is_weekend             | 0                   \n",
      " week_number            | 1                   \n",
      " vendor_enc             | 0.0                 \n",
      " rate_type_enc          | 0.0                 \n",
      " store_and_fwd_flag_enc | 0.0                 \n",
      " payment_type_enc       | 0.0                 \n",
      " pu_location_enc        | 7.0                 \n",
      " do_location_enc        | 22.0                \n",
      "-RECORD 19------------------------------------\n",
      " tpep_pickup_datetime   | 2019-08-01 02:39:36 \n",
      " tpep_dropoff_datetime  | 2019-08-01 02:47:08 \n",
      " passenger_count        | 1.0                 \n",
      " trip_distance          | 2.2                 \n",
      " fare_amount            | 8.5                 \n",
      " extra                  | 3.0                 \n",
      " mta_tax                | 0.5                 \n",
      " tip_amount             | 2.21                \n",
      " tolls_amount           | 0.0                 \n",
      " improvement_surcharge  | 0.3                 \n",
      " total_amount           | 14.51               \n",
      " congestion_surcharge   | 2.5                 \n",
      " airport_fee            | 0                   \n",
      " trip_duration          | 452                 \n",
      " is_weekend             | 0                   \n",
      " week_number            | 1                   \n",
      " vendor_enc             | 1.0                 \n",
      " rate_type_enc          | 0.0                 \n",
      " store_and_fwd_flag_enc | 0.0                 \n",
      " payment_type_enc       | 0.0                 \n",
      " pu_location_enc        | 11.0                \n",
      " do_location_enc        | 19.0                \n",
      "only showing top 20 rows\n",
      "\n"
     ]
    }
   ],
   "source": [
    "df_encoded.show(20, vertical=True)"
   ]
  },
  {
   "cell_type": "markdown",
   "id": "547d8fc3",
   "metadata": {
    "heading_collapsed": true,
    "hidden": true
   },
   "source": [
    "### Preview first 20 rows of your lookup table"
   ]
  },
  {
   "cell_type": "code",
   "execution_count": 43,
   "id": "0e8374f2",
   "metadata": {
    "ExecuteTime": {
     "end_time": "2023-12-02T19:07:17.511952Z",
     "start_time": "2023-12-02T19:07:17.290698Z"
    },
    "hidden": true
   },
   "outputs": [
    {
     "data": {
      "text/html": [
       "<div>\n",
       "<style scoped>\n",
       "    .dataframe tbody tr th:only-of-type {\n",
       "        vertical-align: middle;\n",
       "    }\n",
       "\n",
       "    .dataframe tbody tr th {\n",
       "        vertical-align: top;\n",
       "    }\n",
       "\n",
       "    .dataframe thead th {\n",
       "        text-align: right;\n",
       "    }\n",
       "</style>\n",
       "<table border=\"1\" class=\"dataframe\">\n",
       "  <thead>\n",
       "    <tr style=\"text-align: right;\">\n",
       "      <th></th>\n",
       "      <th>column_name</th>\n",
       "      <th>original_value</th>\n",
       "      <th>encoded_value</th>\n",
       "    </tr>\n",
       "  </thead>\n",
       "  <tbody>\n",
       "    <tr>\n",
       "      <th>0</th>\n",
       "      <td>vendor</td>\n",
       "      <td>VeriFone Inc.</td>\n",
       "      <td>0</td>\n",
       "    </tr>\n",
       "    <tr>\n",
       "      <th>1</th>\n",
       "      <td>vendor</td>\n",
       "      <td>Creative Mobile Technologies, LLC</td>\n",
       "      <td>1</td>\n",
       "    </tr>\n",
       "    <tr>\n",
       "      <th>2</th>\n",
       "      <td>vendor</td>\n",
       "      <td>Unknown</td>\n",
       "      <td>2</td>\n",
       "    </tr>\n",
       "    <tr>\n",
       "      <th>3</th>\n",
       "      <td>rate_type</td>\n",
       "      <td>Standard rate</td>\n",
       "      <td>0</td>\n",
       "    </tr>\n",
       "    <tr>\n",
       "      <th>4</th>\n",
       "      <td>rate_type</td>\n",
       "      <td>JFK</td>\n",
       "      <td>1</td>\n",
       "    </tr>\n",
       "    <tr>\n",
       "      <th>5</th>\n",
       "      <td>rate_type</td>\n",
       "      <td>Unknown</td>\n",
       "      <td>2</td>\n",
       "    </tr>\n",
       "    <tr>\n",
       "      <th>6</th>\n",
       "      <td>rate_type</td>\n",
       "      <td>Negotiated fare</td>\n",
       "      <td>3</td>\n",
       "    </tr>\n",
       "    <tr>\n",
       "      <th>7</th>\n",
       "      <td>rate_type</td>\n",
       "      <td>Newark</td>\n",
       "      <td>4</td>\n",
       "    </tr>\n",
       "    <tr>\n",
       "      <th>8</th>\n",
       "      <td>rate_type</td>\n",
       "      <td>Nassau or Westchester</td>\n",
       "      <td>5</td>\n",
       "    </tr>\n",
       "    <tr>\n",
       "      <th>9</th>\n",
       "      <td>rate_type</td>\n",
       "      <td>Group ride</td>\n",
       "      <td>6</td>\n",
       "    </tr>\n",
       "    <tr>\n",
       "      <th>10</th>\n",
       "      <td>store_and_fwd_flag</td>\n",
       "      <td>N</td>\n",
       "      <td>0</td>\n",
       "    </tr>\n",
       "    <tr>\n",
       "      <th>11</th>\n",
       "      <td>store_and_fwd_flag</td>\n",
       "      <td>Y</td>\n",
       "      <td>1</td>\n",
       "    </tr>\n",
       "    <tr>\n",
       "      <th>12</th>\n",
       "      <td>store_and_fwd_flag</td>\n",
       "      <td>Unknown</td>\n",
       "      <td>2</td>\n",
       "    </tr>\n",
       "    <tr>\n",
       "      <th>13</th>\n",
       "      <td>payment_type</td>\n",
       "      <td>Credit card</td>\n",
       "      <td>0</td>\n",
       "    </tr>\n",
       "    <tr>\n",
       "      <th>14</th>\n",
       "      <td>payment_type</td>\n",
       "      <td>Cash</td>\n",
       "      <td>1</td>\n",
       "    </tr>\n",
       "    <tr>\n",
       "      <th>15</th>\n",
       "      <td>payment_type</td>\n",
       "      <td>Unknown</td>\n",
       "      <td>2</td>\n",
       "    </tr>\n",
       "    <tr>\n",
       "      <th>16</th>\n",
       "      <td>payment_type</td>\n",
       "      <td>No charge</td>\n",
       "      <td>3</td>\n",
       "    </tr>\n",
       "    <tr>\n",
       "      <th>17</th>\n",
       "      <td>payment_type</td>\n",
       "      <td>Dispute</td>\n",
       "      <td>4</td>\n",
       "    </tr>\n",
       "    <tr>\n",
       "      <th>18</th>\n",
       "      <td>pu_location</td>\n",
       "      <td>Manhattan,Midtown Center</td>\n",
       "      <td>0</td>\n",
       "    </tr>\n",
       "    <tr>\n",
       "      <th>19</th>\n",
       "      <td>pu_location</td>\n",
       "      <td>Manhattan,Penn Station/Madison Sq West</td>\n",
       "      <td>1</td>\n",
       "    </tr>\n",
       "  </tbody>\n",
       "</table>\n",
       "</div>"
      ],
      "text/plain": [
       "           column_name                          original_value encoded_value\n",
       "0               vendor                           VeriFone Inc.             0\n",
       "1               vendor       Creative Mobile Technologies, LLC             1\n",
       "2               vendor                                 Unknown             2\n",
       "3            rate_type                           Standard rate             0\n",
       "4            rate_type                                     JFK             1\n",
       "5            rate_type                                 Unknown             2\n",
       "6            rate_type                         Negotiated fare             3\n",
       "7            rate_type                                  Newark             4\n",
       "8            rate_type                   Nassau or Westchester             5\n",
       "9            rate_type                              Group ride             6\n",
       "10  store_and_fwd_flag                                       N             0\n",
       "11  store_and_fwd_flag                                       Y             1\n",
       "12  store_and_fwd_flag                                 Unknown             2\n",
       "13        payment_type                             Credit card             0\n",
       "14        payment_type                                    Cash             1\n",
       "15        payment_type                                 Unknown             2\n",
       "16        payment_type                               No charge             3\n",
       "17        payment_type                                 Dispute             4\n",
       "18         pu_location                Manhattan,Midtown Center             0\n",
       "19         pu_location  Manhattan,Penn Station/Madison Sq West             1"
      ]
     },
     "execution_count": 43,
     "metadata": {},
     "output_type": "execute_result"
    }
   ],
   "source": [
    "lookup.head(20)"
   ]
  },
  {
   "cell_type": "markdown",
   "id": "fcdd7830",
   "metadata": {
    "heading_collapsed": true,
    "hidden": true
   },
   "source": [
    "### Load the cleaned PySpark df to a parquet file and the lookup table to a csv file."
   ]
  },
  {
   "cell_type": "code",
   "execution_count": 44,
   "id": "90fbdb44",
   "metadata": {
    "ExecuteTime": {
     "end_time": "2023-12-02T19:08:24.343841Z",
     "start_time": "2023-12-02T19:07:17.513922Z"
    },
    "hidden": true
   },
   "outputs": [],
   "source": [
    "df_encoded.write.parquet(\"./data/yellow_trip_data_2019-8_clean.parquet\", mode=\"overwrite\") "
   ]
  },
  {
   "cell_type": "code",
   "execution_count": 45,
   "id": "57d45165",
   "metadata": {
    "ExecuteTime": {
     "end_time": "2023-12-02T19:08:24.354806Z",
     "start_time": "2023-12-02T19:08:24.345303Z"
    },
    "hidden": true
   },
   "outputs": [],
   "source": [
    "lookup.to_csv(\"./data/yellow_taxi_lookup_8_19.csv\")"
   ]
  },
  {
   "cell_type": "markdown",
   "id": "846f97ac",
   "metadata": {},
   "source": [
    "## Bonus - Load the cleaned parquet file and lookup table into a Postgres database. \n",
    "\n",
    "Note that if you decide to do the bonus, you must include not only your notebook but the docker-compose.yaml file aswell."
   ]
  },
  {
   "cell_type": "code",
   "execution_count": null,
   "id": "f0334636",
   "metadata": {},
   "outputs": [],
   "source": []
  },
  {
   "cell_type": "code",
   "execution_count": null,
   "id": "b1ef76b5",
   "metadata": {},
   "outputs": [],
   "source": []
  },
  {
   "cell_type": "markdown",
   "id": "598c8f58",
   "metadata": {},
   "source": [
    "### Screenshot of the table existing in the database and a simple query such as `select count(*) from table_name` or `select * from table_name limit 10`\n",
    "\n",
    "(You can just copy paste the screenshots in the markdown cells below)"
   ]
  },
  {
   "cell_type": "markdown",
   "id": "e4082ea3",
   "metadata": {},
   "source": []
  },
  {
   "cell_type": "markdown",
   "id": "d6329f74",
   "metadata": {},
   "source": []
  },
  {
   "cell_type": "markdown",
   "id": "e30ecdbd",
   "metadata": {},
   "source": []
  }
 ],
 "metadata": {
  "kernelspec": {
   "display_name": "Python 3",
   "language": "python",
   "name": "python3"
  },
  "language_info": {
   "codemirror_mode": {
    "name": "ipython",
    "version": 3
   },
   "file_extension": ".py",
   "mimetype": "text/x-python",
   "name": "python",
   "nbconvert_exporter": "python",
   "pygments_lexer": "ipython3",
   "version": "3.10.2"
  },
  "toc": {
   "base_numbering": 1,
   "nav_menu": {},
   "number_sections": true,
   "sideBar": true,
   "skip_h1_title": false,
   "title_cell": "Table of Contents",
   "title_sidebar": "Contents",
   "toc_cell": false,
   "toc_position": {},
   "toc_section_display": true,
   "toc_window_display": false
  }
 },
 "nbformat": 4,
 "nbformat_minor": 5
}
